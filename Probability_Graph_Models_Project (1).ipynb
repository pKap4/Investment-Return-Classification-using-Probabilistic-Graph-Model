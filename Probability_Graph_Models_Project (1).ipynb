{
  "cells": [
    {
      "cell_type": "code",
      "execution_count": null,
      "metadata": {
        "id": "MHdhOWXhFahm"
      },
      "outputs": [],
      "source": [
        "import pandas as pd\n",
        "import numpy as np\n",
        "import matplotlib.pyplot as plt\n",
        "import statistics as stats\n",
        "import seaborn as sns\n",
        "from sklearn.metrics import confusion_matrix, accuracy_score"
      ]
    },
    {
      "cell_type": "code",
      "source": [
        "from google.colab import drive\n",
        "drive.mount('/content/drive')"
      ],
      "metadata": {
        "id": "NXhTn7sOP4Aq",
        "colab": {
          "base_uri": "https://localhost:8080/"
        },
        "outputId": "8173865f-2ba9-499f-8e49-9d7fa5387a3f"
      },
      "execution_count": null,
      "outputs": [
        {
          "output_type": "stream",
          "name": "stdout",
          "text": [
            "Mounted at /content/drive\n"
          ]
        }
      ]
    },
    {
      "cell_type": "code",
      "execution_count": null,
      "metadata": {
        "id": "5Rki9jVxFahp",
        "outputId": "5c83df57-6b29-499d-bfba-8d95d2025698",
        "colab": {
          "base_uri": "https://localhost:8080/"
        }
      },
      "outputs": [
        {
          "output_type": "execute_result",
          "data": {
            "text/plain": [
              "4392"
            ]
          },
          "metadata": {},
          "execution_count": 3
        }
      ],
      "source": [
        "df=pd.read_csv(\"/content/drive/MyDrive/2018_Financial_Data.csv\")\n",
        "len(df)"
      ]
    },
    {
      "cell_type": "code",
      "execution_count": null,
      "metadata": {
        "id": "8mQuWs9hFahq",
        "colab": {
          "base_uri": "https://localhost:8080/"
        },
        "outputId": "55b20da5-6a2a-405c-e5b3-5e50639aa902"
      },
      "outputs": [
        {
          "output_type": "stream",
          "name": "stdout",
          "text": [
            "<class 'pandas.core.frame.DataFrame'>\n",
            "RangeIndex: 4392 entries, 0 to 4391\n",
            "Columns: 225 entries, Unnamed: 0 to Class\n",
            "dtypes: float64(222), int64(1), object(2)\n",
            "memory usage: 7.5+ MB\n"
          ]
        }
      ],
      "source": [
        "df.info()"
      ]
    },
    {
      "cell_type": "code",
      "execution_count": null,
      "metadata": {
        "id": "aY72hMT1Fahr",
        "colab": {
          "base_uri": "https://localhost:8080/",
          "height": 480
        },
        "outputId": "4a35731a-5627-49fb-cd00-08acb349ee86"
      },
      "outputs": [
        {
          "output_type": "execute_result",
          "data": {
            "text/plain": [
              "            Revenue  Revenue Growth  Cost of Revenue  Gross Profit  \\\n",
              "count  4.346000e+03     4253.000000     4.207000e+03  4.328000e+03   \n",
              "mean   5.119287e+09        3.455278     3.144946e+09  2.043954e+09   \n",
              "std    2.049504e+10      195.504906     1.508813e+10  7.682369e+09   \n",
              "min   -6.894100e+07       -3.461500    -2.669055e+09 -1.818220e+09   \n",
              "25%    6.501425e+07        0.000000     3.415500e+06  3.618903e+07   \n",
              "50%    4.982640e+08        0.074900     1.741180e+08  2.219470e+08   \n",
              "75%    2.457878e+09        0.188500     1.297814e+09  9.767015e+08   \n",
              "max    5.003430e+11    12739.000000     3.733960e+11  1.269470e+11   \n",
              "\n",
              "       R&D Expenses  SG&A Expense  Operating Expenses  Operating Income  \\\n",
              "count  4.155000e+03  4.226000e+03        4.208000e+03      4.357000e+03   \n",
              "mean   1.180176e+08  9.005022e+08        1.435546e+09      6.541207e+08   \n",
              "std    9.330891e+08  3.661116e+09        5.529831e+09      2.969341e+09   \n",
              "min   -1.042000e+08 -1.401594e+08       -4.280000e+09     -1.455700e+10   \n",
              "25%    0.000000e+00  2.056226e+07        4.223644e+07     -5.510000e+06   \n",
              "50%    0.000000e+00  9.390450e+07        1.806253e+08      4.203800e+07   \n",
              "75%    1.450150e+07  4.117162e+08        6.796040e+08      2.862690e+08   \n",
              "max    2.883700e+10  1.065100e+11        1.065100e+11      7.089800e+10   \n",
              "\n",
              "       Interest Expense  Earnings before Tax  ...  \\\n",
              "count      4.208000e+03         4.321000e+03  ...   \n",
              "mean       1.001350e+08         5.584432e+08  ...   \n",
              "std        3.780021e+08         2.639327e+09  ...   \n",
              "min       -1.408252e+09        -2.177200e+10  ...   \n",
              "25%        0.000000e+00        -1.000800e+07  ...   \n",
              "50%        5.693500e+06         2.730700e+07  ...   \n",
              "75%        5.817075e+07         2.238810e+08  ...   \n",
              "max        9.168000e+09         7.290300e+10  ...   \n",
              "\n",
              "       3Y Dividend per Share Growth (per Share)  Receivables growth  \\\n",
              "count                               4067.000000         4268.000000   \n",
              "mean                                   0.006081           36.768524   \n",
              "std                                    0.239653         2347.079237   \n",
              "min                                   -1.000000           -1.000000   \n",
              "25%                                    0.000000           -0.048075   \n",
              "50%                                    0.000000            0.010200   \n",
              "75%                                    0.042050            0.185900   \n",
              "max                                    4.079100       153332.333300   \n",
              "\n",
              "       Inventory Growth  Asset Growth  Book Value per Share Growth  \\\n",
              "count       4160.000000   4178.000000                  4121.000000   \n",
              "mean           0.183066      1.389013                     0.262530   \n",
              "std            4.688013     35.123904                     5.612666   \n",
              "min           -1.000000     -0.999100                   -32.258100   \n",
              "25%            0.000000     -0.036700                    -0.108600   \n",
              "50%            0.000000      0.034750                     0.026100   \n",
              "75%            0.080050      0.160575                     0.138400   \n",
              "max          293.473000   1184.993800                   313.395800   \n",
              "\n",
              "        Debt Growth  R&D Expense Growth  SG&A Expenses Growth  \\\n",
              "count   4128.000000         4133.000000           4144.000000   \n",
              "mean       9.928446            0.091891              0.153610   \n",
              "std      363.717734            0.823281              0.839647   \n",
              "min       -1.000000           -1.000000             -1.000000   \n",
              "25%       -0.082850            0.000000             -0.004650   \n",
              "50%        0.000000            0.000000              0.065700   \n",
              "75%        0.115425            0.009700              0.167625   \n",
              "max    17646.823500           36.898100             43.718800   \n",
              "\n",
              "       2019 PRICE VAR [%]        Class  \n",
              "count         4392.000000  4392.000000  \n",
              "mean            20.803948     0.693534  \n",
              "std             82.622147     0.461078  \n",
              "min            -99.864779     0.000000  \n",
              "25%             -7.477173     0.000000  \n",
              "50%             17.639393     1.000000  \n",
              "75%             39.625879     1.000000  \n",
              "max           3756.716345     1.000000  \n",
              "\n",
              "[8 rows x 223 columns]"
            ],
            "text/html": [
              "\n",
              "  <div id=\"df-2cb6f0bf-cf18-43c7-b7c6-5a7aff1b6459\">\n",
              "    <div class=\"colab-df-container\">\n",
              "      <div>\n",
              "<style scoped>\n",
              "    .dataframe tbody tr th:only-of-type {\n",
              "        vertical-align: middle;\n",
              "    }\n",
              "\n",
              "    .dataframe tbody tr th {\n",
              "        vertical-align: top;\n",
              "    }\n",
              "\n",
              "    .dataframe thead th {\n",
              "        text-align: right;\n",
              "    }\n",
              "</style>\n",
              "<table border=\"1\" class=\"dataframe\">\n",
              "  <thead>\n",
              "    <tr style=\"text-align: right;\">\n",
              "      <th></th>\n",
              "      <th>Revenue</th>\n",
              "      <th>Revenue Growth</th>\n",
              "      <th>Cost of Revenue</th>\n",
              "      <th>Gross Profit</th>\n",
              "      <th>R&amp;D Expenses</th>\n",
              "      <th>SG&amp;A Expense</th>\n",
              "      <th>Operating Expenses</th>\n",
              "      <th>Operating Income</th>\n",
              "      <th>Interest Expense</th>\n",
              "      <th>Earnings before Tax</th>\n",
              "      <th>...</th>\n",
              "      <th>3Y Dividend per Share Growth (per Share)</th>\n",
              "      <th>Receivables growth</th>\n",
              "      <th>Inventory Growth</th>\n",
              "      <th>Asset Growth</th>\n",
              "      <th>Book Value per Share Growth</th>\n",
              "      <th>Debt Growth</th>\n",
              "      <th>R&amp;D Expense Growth</th>\n",
              "      <th>SG&amp;A Expenses Growth</th>\n",
              "      <th>2019 PRICE VAR [%]</th>\n",
              "      <th>Class</th>\n",
              "    </tr>\n",
              "  </thead>\n",
              "  <tbody>\n",
              "    <tr>\n",
              "      <th>count</th>\n",
              "      <td>4.346000e+03</td>\n",
              "      <td>4253.000000</td>\n",
              "      <td>4.207000e+03</td>\n",
              "      <td>4.328000e+03</td>\n",
              "      <td>4.155000e+03</td>\n",
              "      <td>4.226000e+03</td>\n",
              "      <td>4.208000e+03</td>\n",
              "      <td>4.357000e+03</td>\n",
              "      <td>4.208000e+03</td>\n",
              "      <td>4.321000e+03</td>\n",
              "      <td>...</td>\n",
              "      <td>4067.000000</td>\n",
              "      <td>4268.000000</td>\n",
              "      <td>4160.000000</td>\n",
              "      <td>4178.000000</td>\n",
              "      <td>4121.000000</td>\n",
              "      <td>4128.000000</td>\n",
              "      <td>4133.000000</td>\n",
              "      <td>4144.000000</td>\n",
              "      <td>4392.000000</td>\n",
              "      <td>4392.000000</td>\n",
              "    </tr>\n",
              "    <tr>\n",
              "      <th>mean</th>\n",
              "      <td>5.119287e+09</td>\n",
              "      <td>3.455278</td>\n",
              "      <td>3.144946e+09</td>\n",
              "      <td>2.043954e+09</td>\n",
              "      <td>1.180176e+08</td>\n",
              "      <td>9.005022e+08</td>\n",
              "      <td>1.435546e+09</td>\n",
              "      <td>6.541207e+08</td>\n",
              "      <td>1.001350e+08</td>\n",
              "      <td>5.584432e+08</td>\n",
              "      <td>...</td>\n",
              "      <td>0.006081</td>\n",
              "      <td>36.768524</td>\n",
              "      <td>0.183066</td>\n",
              "      <td>1.389013</td>\n",
              "      <td>0.262530</td>\n",
              "      <td>9.928446</td>\n",
              "      <td>0.091891</td>\n",
              "      <td>0.153610</td>\n",
              "      <td>20.803948</td>\n",
              "      <td>0.693534</td>\n",
              "    </tr>\n",
              "    <tr>\n",
              "      <th>std</th>\n",
              "      <td>2.049504e+10</td>\n",
              "      <td>195.504906</td>\n",
              "      <td>1.508813e+10</td>\n",
              "      <td>7.682369e+09</td>\n",
              "      <td>9.330891e+08</td>\n",
              "      <td>3.661116e+09</td>\n",
              "      <td>5.529831e+09</td>\n",
              "      <td>2.969341e+09</td>\n",
              "      <td>3.780021e+08</td>\n",
              "      <td>2.639327e+09</td>\n",
              "      <td>...</td>\n",
              "      <td>0.239653</td>\n",
              "      <td>2347.079237</td>\n",
              "      <td>4.688013</td>\n",
              "      <td>35.123904</td>\n",
              "      <td>5.612666</td>\n",
              "      <td>363.717734</td>\n",
              "      <td>0.823281</td>\n",
              "      <td>0.839647</td>\n",
              "      <td>82.622147</td>\n",
              "      <td>0.461078</td>\n",
              "    </tr>\n",
              "    <tr>\n",
              "      <th>min</th>\n",
              "      <td>-6.894100e+07</td>\n",
              "      <td>-3.461500</td>\n",
              "      <td>-2.669055e+09</td>\n",
              "      <td>-1.818220e+09</td>\n",
              "      <td>-1.042000e+08</td>\n",
              "      <td>-1.401594e+08</td>\n",
              "      <td>-4.280000e+09</td>\n",
              "      <td>-1.455700e+10</td>\n",
              "      <td>-1.408252e+09</td>\n",
              "      <td>-2.177200e+10</td>\n",
              "      <td>...</td>\n",
              "      <td>-1.000000</td>\n",
              "      <td>-1.000000</td>\n",
              "      <td>-1.000000</td>\n",
              "      <td>-0.999100</td>\n",
              "      <td>-32.258100</td>\n",
              "      <td>-1.000000</td>\n",
              "      <td>-1.000000</td>\n",
              "      <td>-1.000000</td>\n",
              "      <td>-99.864779</td>\n",
              "      <td>0.000000</td>\n",
              "    </tr>\n",
              "    <tr>\n",
              "      <th>25%</th>\n",
              "      <td>6.501425e+07</td>\n",
              "      <td>0.000000</td>\n",
              "      <td>3.415500e+06</td>\n",
              "      <td>3.618903e+07</td>\n",
              "      <td>0.000000e+00</td>\n",
              "      <td>2.056226e+07</td>\n",
              "      <td>4.223644e+07</td>\n",
              "      <td>-5.510000e+06</td>\n",
              "      <td>0.000000e+00</td>\n",
              "      <td>-1.000800e+07</td>\n",
              "      <td>...</td>\n",
              "      <td>0.000000</td>\n",
              "      <td>-0.048075</td>\n",
              "      <td>0.000000</td>\n",
              "      <td>-0.036700</td>\n",
              "      <td>-0.108600</td>\n",
              "      <td>-0.082850</td>\n",
              "      <td>0.000000</td>\n",
              "      <td>-0.004650</td>\n",
              "      <td>-7.477173</td>\n",
              "      <td>0.000000</td>\n",
              "    </tr>\n",
              "    <tr>\n",
              "      <th>50%</th>\n",
              "      <td>4.982640e+08</td>\n",
              "      <td>0.074900</td>\n",
              "      <td>1.741180e+08</td>\n",
              "      <td>2.219470e+08</td>\n",
              "      <td>0.000000e+00</td>\n",
              "      <td>9.390450e+07</td>\n",
              "      <td>1.806253e+08</td>\n",
              "      <td>4.203800e+07</td>\n",
              "      <td>5.693500e+06</td>\n",
              "      <td>2.730700e+07</td>\n",
              "      <td>...</td>\n",
              "      <td>0.000000</td>\n",
              "      <td>0.010200</td>\n",
              "      <td>0.000000</td>\n",
              "      <td>0.034750</td>\n",
              "      <td>0.026100</td>\n",
              "      <td>0.000000</td>\n",
              "      <td>0.000000</td>\n",
              "      <td>0.065700</td>\n",
              "      <td>17.639393</td>\n",
              "      <td>1.000000</td>\n",
              "    </tr>\n",
              "    <tr>\n",
              "      <th>75%</th>\n",
              "      <td>2.457878e+09</td>\n",
              "      <td>0.188500</td>\n",
              "      <td>1.297814e+09</td>\n",
              "      <td>9.767015e+08</td>\n",
              "      <td>1.450150e+07</td>\n",
              "      <td>4.117162e+08</td>\n",
              "      <td>6.796040e+08</td>\n",
              "      <td>2.862690e+08</td>\n",
              "      <td>5.817075e+07</td>\n",
              "      <td>2.238810e+08</td>\n",
              "      <td>...</td>\n",
              "      <td>0.042050</td>\n",
              "      <td>0.185900</td>\n",
              "      <td>0.080050</td>\n",
              "      <td>0.160575</td>\n",
              "      <td>0.138400</td>\n",
              "      <td>0.115425</td>\n",
              "      <td>0.009700</td>\n",
              "      <td>0.167625</td>\n",
              "      <td>39.625879</td>\n",
              "      <td>1.000000</td>\n",
              "    </tr>\n",
              "    <tr>\n",
              "      <th>max</th>\n",
              "      <td>5.003430e+11</td>\n",
              "      <td>12739.000000</td>\n",
              "      <td>3.733960e+11</td>\n",
              "      <td>1.269470e+11</td>\n",
              "      <td>2.883700e+10</td>\n",
              "      <td>1.065100e+11</td>\n",
              "      <td>1.065100e+11</td>\n",
              "      <td>7.089800e+10</td>\n",
              "      <td>9.168000e+09</td>\n",
              "      <td>7.290300e+10</td>\n",
              "      <td>...</td>\n",
              "      <td>4.079100</td>\n",
              "      <td>153332.333300</td>\n",
              "      <td>293.473000</td>\n",
              "      <td>1184.993800</td>\n",
              "      <td>313.395800</td>\n",
              "      <td>17646.823500</td>\n",
              "      <td>36.898100</td>\n",
              "      <td>43.718800</td>\n",
              "      <td>3756.716345</td>\n",
              "      <td>1.000000</td>\n",
              "    </tr>\n",
              "  </tbody>\n",
              "</table>\n",
              "<p>8 rows × 223 columns</p>\n",
              "</div>\n",
              "      <button class=\"colab-df-convert\" onclick=\"convertToInteractive('df-2cb6f0bf-cf18-43c7-b7c6-5a7aff1b6459')\"\n",
              "              title=\"Convert this dataframe to an interactive table.\"\n",
              "              style=\"display:none;\">\n",
              "        \n",
              "  <svg xmlns=\"http://www.w3.org/2000/svg\" height=\"24px\"viewBox=\"0 0 24 24\"\n",
              "       width=\"24px\">\n",
              "    <path d=\"M0 0h24v24H0V0z\" fill=\"none\"/>\n",
              "    <path d=\"M18.56 5.44l.94 2.06.94-2.06 2.06-.94-2.06-.94-.94-2.06-.94 2.06-2.06.94zm-11 1L8.5 8.5l.94-2.06 2.06-.94-2.06-.94L8.5 2.5l-.94 2.06-2.06.94zm10 10l.94 2.06.94-2.06 2.06-.94-2.06-.94-.94-2.06-.94 2.06-2.06.94z\"/><path d=\"M17.41 7.96l-1.37-1.37c-.4-.4-.92-.59-1.43-.59-.52 0-1.04.2-1.43.59L10.3 9.45l-7.72 7.72c-.78.78-.78 2.05 0 2.83L4 21.41c.39.39.9.59 1.41.59.51 0 1.02-.2 1.41-.59l7.78-7.78 2.81-2.81c.8-.78.8-2.07 0-2.86zM5.41 20L4 18.59l7.72-7.72 1.47 1.35L5.41 20z\"/>\n",
              "  </svg>\n",
              "      </button>\n",
              "      \n",
              "  <style>\n",
              "    .colab-df-container {\n",
              "      display:flex;\n",
              "      flex-wrap:wrap;\n",
              "      gap: 12px;\n",
              "    }\n",
              "\n",
              "    .colab-df-convert {\n",
              "      background-color: #E8F0FE;\n",
              "      border: none;\n",
              "      border-radius: 50%;\n",
              "      cursor: pointer;\n",
              "      display: none;\n",
              "      fill: #1967D2;\n",
              "      height: 32px;\n",
              "      padding: 0 0 0 0;\n",
              "      width: 32px;\n",
              "    }\n",
              "\n",
              "    .colab-df-convert:hover {\n",
              "      background-color: #E2EBFA;\n",
              "      box-shadow: 0px 1px 2px rgba(60, 64, 67, 0.3), 0px 1px 3px 1px rgba(60, 64, 67, 0.15);\n",
              "      fill: #174EA6;\n",
              "    }\n",
              "\n",
              "    [theme=dark] .colab-df-convert {\n",
              "      background-color: #3B4455;\n",
              "      fill: #D2E3FC;\n",
              "    }\n",
              "\n",
              "    [theme=dark] .colab-df-convert:hover {\n",
              "      background-color: #434B5C;\n",
              "      box-shadow: 0px 1px 3px 1px rgba(0, 0, 0, 0.15);\n",
              "      filter: drop-shadow(0px 1px 2px rgba(0, 0, 0, 0.3));\n",
              "      fill: #FFFFFF;\n",
              "    }\n",
              "  </style>\n",
              "\n",
              "      <script>\n",
              "        const buttonEl =\n",
              "          document.querySelector('#df-2cb6f0bf-cf18-43c7-b7c6-5a7aff1b6459 button.colab-df-convert');\n",
              "        buttonEl.style.display =\n",
              "          google.colab.kernel.accessAllowed ? 'block' : 'none';\n",
              "\n",
              "        async function convertToInteractive(key) {\n",
              "          const element = document.querySelector('#df-2cb6f0bf-cf18-43c7-b7c6-5a7aff1b6459');\n",
              "          const dataTable =\n",
              "            await google.colab.kernel.invokeFunction('convertToInteractive',\n",
              "                                                     [key], {});\n",
              "          if (!dataTable) return;\n",
              "\n",
              "          const docLinkHtml = 'Like what you see? Visit the ' +\n",
              "            '<a target=\"_blank\" href=https://colab.research.google.com/notebooks/data_table.ipynb>data table notebook</a>'\n",
              "            + ' to learn more about interactive tables.';\n",
              "          element.innerHTML = '';\n",
              "          dataTable['output_type'] = 'display_data';\n",
              "          await google.colab.output.renderOutput(dataTable, element);\n",
              "          const docLink = document.createElement('div');\n",
              "          docLink.innerHTML = docLinkHtml;\n",
              "          element.appendChild(docLink);\n",
              "        }\n",
              "      </script>\n",
              "    </div>\n",
              "  </div>\n",
              "  "
            ]
          },
          "metadata": {},
          "execution_count": 5
        }
      ],
      "source": [
        "df.describe()"
      ]
    },
    {
      "cell_type": "code",
      "execution_count": null,
      "metadata": {
        "id": "v_dIiYLtFahr",
        "colab": {
          "base_uri": "https://localhost:8080/"
        },
        "outputId": "b59c2a7f-a78a-4452-a1ea-1b559b383ace"
      },
      "outputs": [
        {
          "output_type": "execute_result",
          "data": {
            "text/plain": [
              "array(['Consumer Cyclical', 'Energy', 'Technology', 'Industrials',\n",
              "       'Financial Services', 'Basic Materials', 'Communication Services',\n",
              "       'Consumer Defensive', 'Healthcare', 'Real Estate', 'Utilities'],\n",
              "      dtype=object)"
            ]
          },
          "metadata": {},
          "execution_count": 6
        }
      ],
      "source": [
        "df[\"Sector\"].unique()"
      ]
    },
    {
      "cell_type": "code",
      "execution_count": null,
      "metadata": {
        "id": "OBsoPwd3Fahs"
      },
      "outputs": [],
      "source": [
        "df_copy=df.copy()"
      ]
    },
    {
      "cell_type": "markdown",
      "metadata": {
        "id": "SbRILyGdFahs"
      },
      "source": [
        "Converting categorical column to categorical column"
      ]
    },
    {
      "cell_type": "code",
      "execution_count": null,
      "metadata": {
        "id": "RNJpEfBKFaht",
        "colab": {
          "base_uri": "https://localhost:8080/"
        },
        "outputId": "9dbc2b1f-abd4-4214-c68f-fa2227a5a7a7"
      },
      "outputs": [
        {
          "output_type": "execute_result",
          "data": {
            "text/plain": [
              "array([ 2,  4,  9,  7,  5,  0,  1,  3,  6,  8, 10])"
            ]
          },
          "metadata": {},
          "execution_count": 8
        }
      ],
      "source": [
        "# Import label encoder\n",
        "from sklearn import preprocessing\n",
        "\n",
        "# label_encoder object knows how to understand word labels.\n",
        "label_encoder = preprocessing.LabelEncoder()\n",
        "\n",
        "# Encode labels in column 'species'.\n",
        "df_copy['Sector']= label_encoder.fit_transform(df_copy['Sector'])\n",
        "\n",
        "df_copy['Sector'].unique()\n"
      ]
    },
    {
      "cell_type": "code",
      "execution_count": null,
      "metadata": {
        "id": "oljZERR0Faht",
        "colab": {
          "base_uri": "https://localhost:8080/",
          "height": 306
        },
        "outputId": "45db4d7f-827e-426f-bd7d-e967fc5d15d8"
      },
      "outputs": [
        {
          "output_type": "execute_result",
          "data": {
            "text/plain": [
              "  Unnamed: 0       Revenue  Revenue Growth  Cost of Revenue  Gross Profit  \\\n",
              "0      CMCSA  9.450700e+10          0.1115     0.000000e+00  9.450700e+10   \n",
              "1        KMI  1.414400e+10          0.0320     7.288000e+09  6.856000e+09   \n",
              "2       INTC  7.084800e+10          0.1289     2.711100e+10  4.373700e+10   \n",
              "\n",
              "   R&D Expenses  SG&A Expense  Operating Expenses  Operating Income  \\\n",
              "0  0.000000e+00  6.482200e+10        7.549800e+10      1.900900e+10   \n",
              "1  0.000000e+00  6.010000e+08        3.062000e+09      3.794000e+09   \n",
              "2  1.354300e+10  6.750000e+09        2.042100e+10      2.331600e+10   \n",
              "\n",
              "   Interest Expense  ...  Receivables growth  Inventory Growth  Asset Growth  \\\n",
              "0      3.542000e+09  ...              0.2570            0.0000        0.3426   \n",
              "1      1.917000e+09  ...              0.0345           -0.0920       -0.0024   \n",
              "2     -1.260000e+08  ...              0.1989            0.0387        0.0382   \n",
              "\n",
              "   Book Value per Share Growth  Debt Growth  R&D Expense Growth  \\\n",
              "0                       0.0722       0.7309               0.000   \n",
              "1                       0.0076      -0.0137               0.000   \n",
              "2                       0.1014      -0.0169               0.039   \n",
              "\n",
              "   SG&A Expenses Growth  Sector  2019 PRICE VAR [%]  Class  \n",
              "0                0.1308       2           32.794573      1  \n",
              "1               -0.1265       4           40.588068      1  \n",
              "2               -0.0942       9           30.295514      1  \n",
              "\n",
              "[3 rows x 225 columns]"
            ],
            "text/html": [
              "\n",
              "  <div id=\"df-130fd094-3f54-4101-8e0f-74cd9e8c625b\">\n",
              "    <div class=\"colab-df-container\">\n",
              "      <div>\n",
              "<style scoped>\n",
              "    .dataframe tbody tr th:only-of-type {\n",
              "        vertical-align: middle;\n",
              "    }\n",
              "\n",
              "    .dataframe tbody tr th {\n",
              "        vertical-align: top;\n",
              "    }\n",
              "\n",
              "    .dataframe thead th {\n",
              "        text-align: right;\n",
              "    }\n",
              "</style>\n",
              "<table border=\"1\" class=\"dataframe\">\n",
              "  <thead>\n",
              "    <tr style=\"text-align: right;\">\n",
              "      <th></th>\n",
              "      <th>Unnamed: 0</th>\n",
              "      <th>Revenue</th>\n",
              "      <th>Revenue Growth</th>\n",
              "      <th>Cost of Revenue</th>\n",
              "      <th>Gross Profit</th>\n",
              "      <th>R&amp;D Expenses</th>\n",
              "      <th>SG&amp;A Expense</th>\n",
              "      <th>Operating Expenses</th>\n",
              "      <th>Operating Income</th>\n",
              "      <th>Interest Expense</th>\n",
              "      <th>...</th>\n",
              "      <th>Receivables growth</th>\n",
              "      <th>Inventory Growth</th>\n",
              "      <th>Asset Growth</th>\n",
              "      <th>Book Value per Share Growth</th>\n",
              "      <th>Debt Growth</th>\n",
              "      <th>R&amp;D Expense Growth</th>\n",
              "      <th>SG&amp;A Expenses Growth</th>\n",
              "      <th>Sector</th>\n",
              "      <th>2019 PRICE VAR [%]</th>\n",
              "      <th>Class</th>\n",
              "    </tr>\n",
              "  </thead>\n",
              "  <tbody>\n",
              "    <tr>\n",
              "      <th>0</th>\n",
              "      <td>CMCSA</td>\n",
              "      <td>9.450700e+10</td>\n",
              "      <td>0.1115</td>\n",
              "      <td>0.000000e+00</td>\n",
              "      <td>9.450700e+10</td>\n",
              "      <td>0.000000e+00</td>\n",
              "      <td>6.482200e+10</td>\n",
              "      <td>7.549800e+10</td>\n",
              "      <td>1.900900e+10</td>\n",
              "      <td>3.542000e+09</td>\n",
              "      <td>...</td>\n",
              "      <td>0.2570</td>\n",
              "      <td>0.0000</td>\n",
              "      <td>0.3426</td>\n",
              "      <td>0.0722</td>\n",
              "      <td>0.7309</td>\n",
              "      <td>0.000</td>\n",
              "      <td>0.1308</td>\n",
              "      <td>2</td>\n",
              "      <td>32.794573</td>\n",
              "      <td>1</td>\n",
              "    </tr>\n",
              "    <tr>\n",
              "      <th>1</th>\n",
              "      <td>KMI</td>\n",
              "      <td>1.414400e+10</td>\n",
              "      <td>0.0320</td>\n",
              "      <td>7.288000e+09</td>\n",
              "      <td>6.856000e+09</td>\n",
              "      <td>0.000000e+00</td>\n",
              "      <td>6.010000e+08</td>\n",
              "      <td>3.062000e+09</td>\n",
              "      <td>3.794000e+09</td>\n",
              "      <td>1.917000e+09</td>\n",
              "      <td>...</td>\n",
              "      <td>0.0345</td>\n",
              "      <td>-0.0920</td>\n",
              "      <td>-0.0024</td>\n",
              "      <td>0.0076</td>\n",
              "      <td>-0.0137</td>\n",
              "      <td>0.000</td>\n",
              "      <td>-0.1265</td>\n",
              "      <td>4</td>\n",
              "      <td>40.588068</td>\n",
              "      <td>1</td>\n",
              "    </tr>\n",
              "    <tr>\n",
              "      <th>2</th>\n",
              "      <td>INTC</td>\n",
              "      <td>7.084800e+10</td>\n",
              "      <td>0.1289</td>\n",
              "      <td>2.711100e+10</td>\n",
              "      <td>4.373700e+10</td>\n",
              "      <td>1.354300e+10</td>\n",
              "      <td>6.750000e+09</td>\n",
              "      <td>2.042100e+10</td>\n",
              "      <td>2.331600e+10</td>\n",
              "      <td>-1.260000e+08</td>\n",
              "      <td>...</td>\n",
              "      <td>0.1989</td>\n",
              "      <td>0.0387</td>\n",
              "      <td>0.0382</td>\n",
              "      <td>0.1014</td>\n",
              "      <td>-0.0169</td>\n",
              "      <td>0.039</td>\n",
              "      <td>-0.0942</td>\n",
              "      <td>9</td>\n",
              "      <td>30.295514</td>\n",
              "      <td>1</td>\n",
              "    </tr>\n",
              "  </tbody>\n",
              "</table>\n",
              "<p>3 rows × 225 columns</p>\n",
              "</div>\n",
              "      <button class=\"colab-df-convert\" onclick=\"convertToInteractive('df-130fd094-3f54-4101-8e0f-74cd9e8c625b')\"\n",
              "              title=\"Convert this dataframe to an interactive table.\"\n",
              "              style=\"display:none;\">\n",
              "        \n",
              "  <svg xmlns=\"http://www.w3.org/2000/svg\" height=\"24px\"viewBox=\"0 0 24 24\"\n",
              "       width=\"24px\">\n",
              "    <path d=\"M0 0h24v24H0V0z\" fill=\"none\"/>\n",
              "    <path d=\"M18.56 5.44l.94 2.06.94-2.06 2.06-.94-2.06-.94-.94-2.06-.94 2.06-2.06.94zm-11 1L8.5 8.5l.94-2.06 2.06-.94-2.06-.94L8.5 2.5l-.94 2.06-2.06.94zm10 10l.94 2.06.94-2.06 2.06-.94-2.06-.94-.94-2.06-.94 2.06-2.06.94z\"/><path d=\"M17.41 7.96l-1.37-1.37c-.4-.4-.92-.59-1.43-.59-.52 0-1.04.2-1.43.59L10.3 9.45l-7.72 7.72c-.78.78-.78 2.05 0 2.83L4 21.41c.39.39.9.59 1.41.59.51 0 1.02-.2 1.41-.59l7.78-7.78 2.81-2.81c.8-.78.8-2.07 0-2.86zM5.41 20L4 18.59l7.72-7.72 1.47 1.35L5.41 20z\"/>\n",
              "  </svg>\n",
              "      </button>\n",
              "      \n",
              "  <style>\n",
              "    .colab-df-container {\n",
              "      display:flex;\n",
              "      flex-wrap:wrap;\n",
              "      gap: 12px;\n",
              "    }\n",
              "\n",
              "    .colab-df-convert {\n",
              "      background-color: #E8F0FE;\n",
              "      border: none;\n",
              "      border-radius: 50%;\n",
              "      cursor: pointer;\n",
              "      display: none;\n",
              "      fill: #1967D2;\n",
              "      height: 32px;\n",
              "      padding: 0 0 0 0;\n",
              "      width: 32px;\n",
              "    }\n",
              "\n",
              "    .colab-df-convert:hover {\n",
              "      background-color: #E2EBFA;\n",
              "      box-shadow: 0px 1px 2px rgba(60, 64, 67, 0.3), 0px 1px 3px 1px rgba(60, 64, 67, 0.15);\n",
              "      fill: #174EA6;\n",
              "    }\n",
              "\n",
              "    [theme=dark] .colab-df-convert {\n",
              "      background-color: #3B4455;\n",
              "      fill: #D2E3FC;\n",
              "    }\n",
              "\n",
              "    [theme=dark] .colab-df-convert:hover {\n",
              "      background-color: #434B5C;\n",
              "      box-shadow: 0px 1px 3px 1px rgba(0, 0, 0, 0.15);\n",
              "      filter: drop-shadow(0px 1px 2px rgba(0, 0, 0, 0.3));\n",
              "      fill: #FFFFFF;\n",
              "    }\n",
              "  </style>\n",
              "\n",
              "      <script>\n",
              "        const buttonEl =\n",
              "          document.querySelector('#df-130fd094-3f54-4101-8e0f-74cd9e8c625b button.colab-df-convert');\n",
              "        buttonEl.style.display =\n",
              "          google.colab.kernel.accessAllowed ? 'block' : 'none';\n",
              "\n",
              "        async function convertToInteractive(key) {\n",
              "          const element = document.querySelector('#df-130fd094-3f54-4101-8e0f-74cd9e8c625b');\n",
              "          const dataTable =\n",
              "            await google.colab.kernel.invokeFunction('convertToInteractive',\n",
              "                                                     [key], {});\n",
              "          if (!dataTable) return;\n",
              "\n",
              "          const docLinkHtml = 'Like what you see? Visit the ' +\n",
              "            '<a target=\"_blank\" href=https://colab.research.google.com/notebooks/data_table.ipynb>data table notebook</a>'\n",
              "            + ' to learn more about interactive tables.';\n",
              "          element.innerHTML = '';\n",
              "          dataTable['output_type'] = 'display_data';\n",
              "          await google.colab.output.renderOutput(dataTable, element);\n",
              "          const docLink = document.createElement('div');\n",
              "          docLink.innerHTML = docLinkHtml;\n",
              "          element.appendChild(docLink);\n",
              "        }\n",
              "      </script>\n",
              "    </div>\n",
              "  </div>\n",
              "  "
            ]
          },
          "metadata": {},
          "execution_count": 9
        }
      ],
      "source": [
        "df_copy.head(3)"
      ]
    },
    {
      "cell_type": "code",
      "execution_count": null,
      "metadata": {
        "id": "qvnHlD0mFahu"
      },
      "outputs": [],
      "source": [
        "from sklearn.preprocessing import StandardScaler\n",
        "# scaled_features2=clean_dataset(df_copy)\n",
        "scaled_features = StandardScaler().fit_transform(df_copy.iloc[:,1:].values)\n",
        "# scaled_features2\n"
      ]
    },
    {
      "cell_type": "code",
      "execution_count": null,
      "metadata": {
        "id": "SUBE26qNFahw",
        "colab": {
          "base_uri": "https://localhost:8080/"
        },
        "outputId": "b1a90c4d-0f39-43dc-b6eb-cc8630b52583"
      },
      "outputs": [
        {
          "output_type": "execute_result",
          "data": {
            "text/plain": [
              "11"
            ]
          },
          "metadata": {},
          "execution_count": 11
        }
      ],
      "source": [
        "columns=[\"Total debt\",\"Operating Income\",\"EBITDA Margin\",\"daysOfPayablesOutstanding\",\"Inventory Turnover\",\"Revenue Growth\",\"Free Cash Flow\",\"returnOnCapitalEmployed\",\"returnOnEquity\",\"Book Value per Share\",\"Class\"]\n",
        "len(columns)"
      ]
    },
    {
      "cell_type": "markdown",
      "metadata": {
        "id": "6GluFKy8Fahx"
      },
      "source": [
        "**We have 10 features and 1 target feature**"
      ]
    },
    {
      "cell_type": "code",
      "execution_count": null,
      "metadata": {
        "id": "T8eEL4OGFahx"
      },
      "outputs": [],
      "source": [
        "df_final=df_copy[columns]"
      ]
    },
    {
      "cell_type": "code",
      "execution_count": null,
      "metadata": {
        "id": "Q77BjdmqFahx",
        "colab": {
          "base_uri": "https://localhost:8080/",
          "height": 382
        },
        "outputId": "f55963a8-ae3f-47e8-f27c-b0eed2fa6a89"
      },
      "outputs": [
        {
          "output_type": "execute_result",
          "data": {
            "text/plain": [
              "         Total debt  Operating Income  EBITDA Margin  \\\n",
              "count  4.224000e+03      4.357000e+03    4084.000000   \n",
              "mean   4.276841e+09      6.541207e+08      -7.943095   \n",
              "std    2.309952e+10      2.969341e+09     182.556970   \n",
              "min   -8.451650e+09     -1.455700e+10   -8809.838000   \n",
              "25%    9.184428e+06     -5.510000e+06       0.015950   \n",
              "50%    2.601950e+08      4.203800e+07       0.129700   \n",
              "75%    1.710580e+09      2.862690e+08       0.310000   \n",
              "max    5.336270e+11      7.089800e+10    3090.870000   \n",
              "\n",
              "       daysOfPayablesOutstanding  Inventory Turnover  Revenue Growth  \\\n",
              "count                4158.000000         4153.000000     4253.000000   \n",
              "mean                  264.293788           48.044948        3.455278   \n",
              "std                  3728.406346         1494.046198      195.504906   \n",
              "min                -26028.289100            0.000000       -3.461500   \n",
              "25%                    10.118775            0.000000        0.000000   \n",
              "50%                    27.282600            3.237400        0.074900   \n",
              "75%                    56.558975           10.604000        0.188500   \n",
              "max                127441.758100        95827.710300    12739.000000   \n",
              "\n",
              "       Free Cash Flow  returnOnCapitalEmployed  returnOnEquity  \\\n",
              "count    4.225000e+03              3290.000000    4.136000e+03   \n",
              "mean     5.063973e+08                -0.484180    2.685090e+03   \n",
              "std      3.049297e+09                 5.646011    1.732375e+05   \n",
              "min     -6.227011e+10              -151.944400   -3.477246e+04   \n",
              "25%     -1.085712e+07                -0.021675   -8.107500e-02   \n",
              "50%      2.472500e+07                 0.035700    7.485000e-02   \n",
              "75%      2.098000e+08                 0.090675    1.532250e-01   \n",
              "max      9.414620e+10               167.328600    1.114114e+07   \n",
              "\n",
              "       Book Value per Share        Class  \n",
              "count           4140.000000  4392.000000  \n",
              "mean             -70.206259     0.693534  \n",
              "std             5648.293390     0.461078  \n",
              "min          -363376.472000     0.000000  \n",
              "25%                3.217750     0.000000  \n",
              "50%                9.939000     1.000000  \n",
              "75%               20.550250     1.000000  \n",
              "max             3397.105000     1.000000  "
            ],
            "text/html": [
              "\n",
              "  <div id=\"df-fec1adbe-c8ca-4f8d-bbec-eb23ef2a28ab\">\n",
              "    <div class=\"colab-df-container\">\n",
              "      <div>\n",
              "<style scoped>\n",
              "    .dataframe tbody tr th:only-of-type {\n",
              "        vertical-align: middle;\n",
              "    }\n",
              "\n",
              "    .dataframe tbody tr th {\n",
              "        vertical-align: top;\n",
              "    }\n",
              "\n",
              "    .dataframe thead th {\n",
              "        text-align: right;\n",
              "    }\n",
              "</style>\n",
              "<table border=\"1\" class=\"dataframe\">\n",
              "  <thead>\n",
              "    <tr style=\"text-align: right;\">\n",
              "      <th></th>\n",
              "      <th>Total debt</th>\n",
              "      <th>Operating Income</th>\n",
              "      <th>EBITDA Margin</th>\n",
              "      <th>daysOfPayablesOutstanding</th>\n",
              "      <th>Inventory Turnover</th>\n",
              "      <th>Revenue Growth</th>\n",
              "      <th>Free Cash Flow</th>\n",
              "      <th>returnOnCapitalEmployed</th>\n",
              "      <th>returnOnEquity</th>\n",
              "      <th>Book Value per Share</th>\n",
              "      <th>Class</th>\n",
              "    </tr>\n",
              "  </thead>\n",
              "  <tbody>\n",
              "    <tr>\n",
              "      <th>count</th>\n",
              "      <td>4.224000e+03</td>\n",
              "      <td>4.357000e+03</td>\n",
              "      <td>4084.000000</td>\n",
              "      <td>4158.000000</td>\n",
              "      <td>4153.000000</td>\n",
              "      <td>4253.000000</td>\n",
              "      <td>4.225000e+03</td>\n",
              "      <td>3290.000000</td>\n",
              "      <td>4.136000e+03</td>\n",
              "      <td>4140.000000</td>\n",
              "      <td>4392.000000</td>\n",
              "    </tr>\n",
              "    <tr>\n",
              "      <th>mean</th>\n",
              "      <td>4.276841e+09</td>\n",
              "      <td>6.541207e+08</td>\n",
              "      <td>-7.943095</td>\n",
              "      <td>264.293788</td>\n",
              "      <td>48.044948</td>\n",
              "      <td>3.455278</td>\n",
              "      <td>5.063973e+08</td>\n",
              "      <td>-0.484180</td>\n",
              "      <td>2.685090e+03</td>\n",
              "      <td>-70.206259</td>\n",
              "      <td>0.693534</td>\n",
              "    </tr>\n",
              "    <tr>\n",
              "      <th>std</th>\n",
              "      <td>2.309952e+10</td>\n",
              "      <td>2.969341e+09</td>\n",
              "      <td>182.556970</td>\n",
              "      <td>3728.406346</td>\n",
              "      <td>1494.046198</td>\n",
              "      <td>195.504906</td>\n",
              "      <td>3.049297e+09</td>\n",
              "      <td>5.646011</td>\n",
              "      <td>1.732375e+05</td>\n",
              "      <td>5648.293390</td>\n",
              "      <td>0.461078</td>\n",
              "    </tr>\n",
              "    <tr>\n",
              "      <th>min</th>\n",
              "      <td>-8.451650e+09</td>\n",
              "      <td>-1.455700e+10</td>\n",
              "      <td>-8809.838000</td>\n",
              "      <td>-26028.289100</td>\n",
              "      <td>0.000000</td>\n",
              "      <td>-3.461500</td>\n",
              "      <td>-6.227011e+10</td>\n",
              "      <td>-151.944400</td>\n",
              "      <td>-3.477246e+04</td>\n",
              "      <td>-363376.472000</td>\n",
              "      <td>0.000000</td>\n",
              "    </tr>\n",
              "    <tr>\n",
              "      <th>25%</th>\n",
              "      <td>9.184428e+06</td>\n",
              "      <td>-5.510000e+06</td>\n",
              "      <td>0.015950</td>\n",
              "      <td>10.118775</td>\n",
              "      <td>0.000000</td>\n",
              "      <td>0.000000</td>\n",
              "      <td>-1.085712e+07</td>\n",
              "      <td>-0.021675</td>\n",
              "      <td>-8.107500e-02</td>\n",
              "      <td>3.217750</td>\n",
              "      <td>0.000000</td>\n",
              "    </tr>\n",
              "    <tr>\n",
              "      <th>50%</th>\n",
              "      <td>2.601950e+08</td>\n",
              "      <td>4.203800e+07</td>\n",
              "      <td>0.129700</td>\n",
              "      <td>27.282600</td>\n",
              "      <td>3.237400</td>\n",
              "      <td>0.074900</td>\n",
              "      <td>2.472500e+07</td>\n",
              "      <td>0.035700</td>\n",
              "      <td>7.485000e-02</td>\n",
              "      <td>9.939000</td>\n",
              "      <td>1.000000</td>\n",
              "    </tr>\n",
              "    <tr>\n",
              "      <th>75%</th>\n",
              "      <td>1.710580e+09</td>\n",
              "      <td>2.862690e+08</td>\n",
              "      <td>0.310000</td>\n",
              "      <td>56.558975</td>\n",
              "      <td>10.604000</td>\n",
              "      <td>0.188500</td>\n",
              "      <td>2.098000e+08</td>\n",
              "      <td>0.090675</td>\n",
              "      <td>1.532250e-01</td>\n",
              "      <td>20.550250</td>\n",
              "      <td>1.000000</td>\n",
              "    </tr>\n",
              "    <tr>\n",
              "      <th>max</th>\n",
              "      <td>5.336270e+11</td>\n",
              "      <td>7.089800e+10</td>\n",
              "      <td>3090.870000</td>\n",
              "      <td>127441.758100</td>\n",
              "      <td>95827.710300</td>\n",
              "      <td>12739.000000</td>\n",
              "      <td>9.414620e+10</td>\n",
              "      <td>167.328600</td>\n",
              "      <td>1.114114e+07</td>\n",
              "      <td>3397.105000</td>\n",
              "      <td>1.000000</td>\n",
              "    </tr>\n",
              "  </tbody>\n",
              "</table>\n",
              "</div>\n",
              "      <button class=\"colab-df-convert\" onclick=\"convertToInteractive('df-fec1adbe-c8ca-4f8d-bbec-eb23ef2a28ab')\"\n",
              "              title=\"Convert this dataframe to an interactive table.\"\n",
              "              style=\"display:none;\">\n",
              "        \n",
              "  <svg xmlns=\"http://www.w3.org/2000/svg\" height=\"24px\"viewBox=\"0 0 24 24\"\n",
              "       width=\"24px\">\n",
              "    <path d=\"M0 0h24v24H0V0z\" fill=\"none\"/>\n",
              "    <path d=\"M18.56 5.44l.94 2.06.94-2.06 2.06-.94-2.06-.94-.94-2.06-.94 2.06-2.06.94zm-11 1L8.5 8.5l.94-2.06 2.06-.94-2.06-.94L8.5 2.5l-.94 2.06-2.06.94zm10 10l.94 2.06.94-2.06 2.06-.94-2.06-.94-.94-2.06-.94 2.06-2.06.94z\"/><path d=\"M17.41 7.96l-1.37-1.37c-.4-.4-.92-.59-1.43-.59-.52 0-1.04.2-1.43.59L10.3 9.45l-7.72 7.72c-.78.78-.78 2.05 0 2.83L4 21.41c.39.39.9.59 1.41.59.51 0 1.02-.2 1.41-.59l7.78-7.78 2.81-2.81c.8-.78.8-2.07 0-2.86zM5.41 20L4 18.59l7.72-7.72 1.47 1.35L5.41 20z\"/>\n",
              "  </svg>\n",
              "      </button>\n",
              "      \n",
              "  <style>\n",
              "    .colab-df-container {\n",
              "      display:flex;\n",
              "      flex-wrap:wrap;\n",
              "      gap: 12px;\n",
              "    }\n",
              "\n",
              "    .colab-df-convert {\n",
              "      background-color: #E8F0FE;\n",
              "      border: none;\n",
              "      border-radius: 50%;\n",
              "      cursor: pointer;\n",
              "      display: none;\n",
              "      fill: #1967D2;\n",
              "      height: 32px;\n",
              "      padding: 0 0 0 0;\n",
              "      width: 32px;\n",
              "    }\n",
              "\n",
              "    .colab-df-convert:hover {\n",
              "      background-color: #E2EBFA;\n",
              "      box-shadow: 0px 1px 2px rgba(60, 64, 67, 0.3), 0px 1px 3px 1px rgba(60, 64, 67, 0.15);\n",
              "      fill: #174EA6;\n",
              "    }\n",
              "\n",
              "    [theme=dark] .colab-df-convert {\n",
              "      background-color: #3B4455;\n",
              "      fill: #D2E3FC;\n",
              "    }\n",
              "\n",
              "    [theme=dark] .colab-df-convert:hover {\n",
              "      background-color: #434B5C;\n",
              "      box-shadow: 0px 1px 3px 1px rgba(0, 0, 0, 0.15);\n",
              "      filter: drop-shadow(0px 1px 2px rgba(0, 0, 0, 0.3));\n",
              "      fill: #FFFFFF;\n",
              "    }\n",
              "  </style>\n",
              "\n",
              "      <script>\n",
              "        const buttonEl =\n",
              "          document.querySelector('#df-fec1adbe-c8ca-4f8d-bbec-eb23ef2a28ab button.colab-df-convert');\n",
              "        buttonEl.style.display =\n",
              "          google.colab.kernel.accessAllowed ? 'block' : 'none';\n",
              "\n",
              "        async function convertToInteractive(key) {\n",
              "          const element = document.querySelector('#df-fec1adbe-c8ca-4f8d-bbec-eb23ef2a28ab');\n",
              "          const dataTable =\n",
              "            await google.colab.kernel.invokeFunction('convertToInteractive',\n",
              "                                                     [key], {});\n",
              "          if (!dataTable) return;\n",
              "\n",
              "          const docLinkHtml = 'Like what you see? Visit the ' +\n",
              "            '<a target=\"_blank\" href=https://colab.research.google.com/notebooks/data_table.ipynb>data table notebook</a>'\n",
              "            + ' to learn more about interactive tables.';\n",
              "          element.innerHTML = '';\n",
              "          dataTable['output_type'] = 'display_data';\n",
              "          await google.colab.output.renderOutput(dataTable, element);\n",
              "          const docLink = document.createElement('div');\n",
              "          docLink.innerHTML = docLinkHtml;\n",
              "          element.appendChild(docLink);\n",
              "        }\n",
              "      </script>\n",
              "    </div>\n",
              "  </div>\n",
              "  "
            ]
          },
          "metadata": {},
          "execution_count": 13
        }
      ],
      "source": [
        "df_final.describe()"
      ]
    },
    {
      "cell_type": "code",
      "execution_count": null,
      "metadata": {
        "id": "kO1lBqxMFah0",
        "colab": {
          "base_uri": "https://localhost:8080/"
        },
        "outputId": "e174187b-7117-4480-f4fa-80ba137a576d"
      },
      "outputs": [
        {
          "output_type": "execute_result",
          "data": {
            "text/plain": [
              "Total debt                    168\n",
              "Operating Income               35\n",
              "EBITDA Margin                 308\n",
              "daysOfPayablesOutstanding     234\n",
              "Inventory Turnover            239\n",
              "Revenue Growth                139\n",
              "Free Cash Flow                167\n",
              "returnOnCapitalEmployed      1102\n",
              "returnOnEquity                256\n",
              "Book Value per Share          252\n",
              "Class                           0\n",
              "dtype: int64"
            ]
          },
          "metadata": {},
          "execution_count": 14
        }
      ],
      "source": [
        "df_final.isna().sum()"
      ]
    },
    {
      "cell_type": "code",
      "execution_count": null,
      "metadata": {
        "id": "3RJzH_B3Fah2",
        "colab": {
          "base_uri": "https://localhost:8080/"
        },
        "outputId": "97fb5038-2c4c-42dd-9f59-1acd881165cf"
      },
      "outputs": [
        {
          "output_type": "stream",
          "name": "stderr",
          "text": [
            "/usr/local/lib/python3.8/dist-packages/pandas/core/generic.py:6392: SettingWithCopyWarning: \n",
            "A value is trying to be set on a copy of a slice from a DataFrame\n",
            "\n",
            "See the caveats in the documentation: https://pandas.pydata.org/pandas-docs/stable/user_guide/indexing.html#returning-a-view-versus-a-copy\n",
            "  return self._update_inplace(result)\n"
          ]
        }
      ],
      "source": [
        "for i in df_final.columns:\n",
        "    df_final[i].fillna(df_final[i].mean(),inplace=True)\n",
        "    "
      ]
    },
    {
      "cell_type": "code",
      "execution_count": null,
      "metadata": {
        "id": "GV88VQOfFah4",
        "colab": {
          "base_uri": "https://localhost:8080/",
          "height": 417
        },
        "outputId": "e7325997-4220-4ffd-f3ec-56bb868885bd"
      },
      "outputs": [
        {
          "output_type": "execute_result",
          "data": {
            "text/plain": [
              "<matplotlib.axes._subplots.AxesSubplot at 0x7f2768295d90>"
            ]
          },
          "metadata": {},
          "execution_count": 16
        },
        {
          "output_type": "display_data",
          "data": {
            "text/plain": [
              "<Figure size 432x288 with 2 Axes>"
            ],
            "image/png": "[encoded data removed]"
          },
          "metadata": {
            "needs_background": "light"
          }
        }
      ],
      "source": [
        "sns.heatmap(df_final.corr())"
      ]
    },
    {
      "cell_type": "markdown",
      "metadata": {
        "id": "DYxGWpasFah5"
      },
      "source": [
        "Removing Feature returnOnEquity and Book Value per Share as the correlation towards target function is as significant as returnoncapital employed"
      ]
    },
    {
      "cell_type": "code",
      "execution_count": null,
      "metadata": {
        "id": "921guypuFah5",
        "colab": {
          "base_uri": "https://localhost:8080/"
        },
        "outputId": "c1f5222c-5449-4002-fd5c-49ffdb6e93ce"
      },
      "outputs": [
        {
          "output_type": "stream",
          "name": "stderr",
          "text": [
            "/usr/local/lib/python3.8/dist-packages/pandas/core/frame.py:4906: SettingWithCopyWarning: \n",
            "A value is trying to be set on a copy of a slice from a DataFrame\n",
            "\n",
            "See the caveats in the documentation: https://pandas.pydata.org/pandas-docs/stable/user_guide/indexing.html#returning-a-view-versus-a-copy\n",
            "  return super().drop(\n"
          ]
        }
      ],
      "source": [
        "df_final.drop(columns=[\"returnOnEquity\",\"Book Value per Share\"],inplace=True)"
      ]
    },
    {
      "cell_type": "markdown",
      "metadata": {
        "id": "g0a4m5w2Fah5"
      },
      "source": [
        "**Categorizing the data in specific value**"
      ]
    },
    {
      "cell_type": "markdown",
      "metadata": {
        "id": "3Il1-S8WFah6"
      },
      "source": [
        "* In order to be able to properly use our data , we need to convert some discrete features to categorical features so that we can have fixed number of categories for that column which would be easier for classification .\n",
        "* So we define a preprocessor function to be applied on different columns ."
      ]
    },
    {
      "cell_type": "code",
      "execution_count": null,
      "metadata": {
        "id": "IaX-zlFwFah6",
        "colab": {
          "base_uri": "https://localhost:8080/",
          "height": 300
        },
        "outputId": "4c0a91fd-a23a-4a7f-a68c-e7fb3b185937"
      },
      "outputs": [
        {
          "output_type": "execute_result",
          "data": {
            "text/plain": [
              "         Total debt  Operating Income  EBITDA Margin  \\\n",
              "count  4.392000e+03      4.392000e+03    4392.000000   \n",
              "mean   4.276841e+09      6.541207e+08      -7.943095   \n",
              "std    2.265331e+10      2.957483e+09     176.037986   \n",
              "min   -8.451650e+09     -1.455700e+10   -8809.838000   \n",
              "25%    1.086581e+07     -5.199308e+06      -0.024475   \n",
              "50%    3.019144e+08      4.366150e+07       0.113000   \n",
              "75%    2.139258e+09      3.019341e+08       0.290000   \n",
              "max    5.336270e+11      7.089800e+10    3090.870000   \n",
              "\n",
              "       daysOfPayablesOutstanding  Inventory Turnover  Revenue Growth  \\\n",
              "count                4392.000000         4392.000000     4392.000000   \n",
              "mean                  264.293788           48.044948        3.455278   \n",
              "std                  3627.701396         1452.817226      192.385604   \n",
              "min                -26028.289100            0.000000       -3.461500   \n",
              "25%                    11.169625            0.000000        0.000000   \n",
              "50%                    29.251050            4.218050        0.078800   \n",
              "75%                    64.901950           13.153500        0.211475   \n",
              "max                127441.758100        95827.710300    12739.000000   \n",
              "\n",
              "       Free Cash Flow  returnOnCapitalEmployed        Class  \n",
              "count    4.392000e+03              4392.000000  4392.000000  \n",
              "mean     5.063973e+08                -0.484180     0.693534  \n",
              "std      2.990749e+09                 4.886433     0.461078  \n",
              "min     -6.227011e+10              -151.944400     0.000000  \n",
              "25%     -9.571750e+06                -0.484180     0.000000  \n",
              "50%      3.033400e+07                 0.000000     1.000000  \n",
              "75%      2.659730e+08                 0.067125     1.000000  \n",
              "max      9.414620e+10               167.328600     1.000000  "
            ],
            "text/html": [
              "\n",
              "  <div id=\"df-cb7cf6eb-0d7f-4e0b-990e-055dd04873e6\">\n",
              "    <div class=\"colab-df-container\">\n",
              "      <div>\n",
              "<style scoped>\n",
              "    .dataframe tbody tr th:only-of-type {\n",
              "        vertical-align: middle;\n",
              "    }\n",
              "\n",
              "    .dataframe tbody tr th {\n",
              "        vertical-align: top;\n",
              "    }\n",
              "\n",
              "    .dataframe thead th {\n",
              "        text-align: right;\n",
              "    }\n",
              "</style>\n",
              "<table border=\"1\" class=\"dataframe\">\n",
              "  <thead>\n",
              "    <tr style=\"text-align: right;\">\n",
              "      <th></th>\n",
              "      <th>Total debt</th>\n",
              "      <th>Operating Income</th>\n",
              "      <th>EBITDA Margin</th>\n",
              "      <th>daysOfPayablesOutstanding</th>\n",
              "      <th>Inventory Turnover</th>\n",
              "      <th>Revenue Growth</th>\n",
              "      <th>Free Cash Flow</th>\n",
              "      <th>returnOnCapitalEmployed</th>\n",
              "      <th>Class</th>\n",
              "    </tr>\n",
              "  </thead>\n",
              "  <tbody>\n",
              "    <tr>\n",
              "      <th>count</th>\n",
              "      <td>4.392000e+03</td>\n",
              "      <td>4.392000e+03</td>\n",
              "      <td>4392.000000</td>\n",
              "      <td>4392.000000</td>\n",
              "      <td>4392.000000</td>\n",
              "      <td>4392.000000</td>\n",
              "      <td>4.392000e+03</td>\n",
              "      <td>4392.000000</td>\n",
              "      <td>4392.000000</td>\n",
              "    </tr>\n",
              "    <tr>\n",
              "      <th>mean</th>\n",
              "      <td>4.276841e+09</td>\n",
              "      <td>6.541207e+08</td>\n",
              "      <td>-7.943095</td>\n",
              "      <td>264.293788</td>\n",
              "      <td>48.044948</td>\n",
              "      <td>3.455278</td>\n",
              "      <td>5.063973e+08</td>\n",
              "      <td>-0.484180</td>\n",
              "      <td>0.693534</td>\n",
              "    </tr>\n",
              "    <tr>\n",
              "      <th>std</th>\n",
              "      <td>2.265331e+10</td>\n",
              "      <td>2.957483e+09</td>\n",
              "      <td>176.037986</td>\n",
              "      <td>3627.701396</td>\n",
              "      <td>1452.817226</td>\n",
              "      <td>192.385604</td>\n",
              "      <td>2.990749e+09</td>\n",
              "      <td>4.886433</td>\n",
              "      <td>0.461078</td>\n",
              "    </tr>\n",
              "    <tr>\n",
              "      <th>min</th>\n",
              "      <td>-8.451650e+09</td>\n",
              "      <td>-1.455700e+10</td>\n",
              "      <td>-8809.838000</td>\n",
              "      <td>-26028.289100</td>\n",
              "      <td>0.000000</td>\n",
              "      <td>-3.461500</td>\n",
              "      <td>-6.227011e+10</td>\n",
              "      <td>-151.944400</td>\n",
              "      <td>0.000000</td>\n",
              "    </tr>\n",
              "    <tr>\n",
              "      <th>25%</th>\n",
              "      <td>1.086581e+07</td>\n",
              "      <td>-5.199308e+06</td>\n",
              "      <td>-0.024475</td>\n",
              "      <td>11.169625</td>\n",
              "      <td>0.000000</td>\n",
              "      <td>0.000000</td>\n",
              "      <td>-9.571750e+06</td>\n",
              "      <td>-0.484180</td>\n",
              "      <td>0.000000</td>\n",
              "    </tr>\n",
              "    <tr>\n",
              "      <th>50%</th>\n",
              "      <td>3.019144e+08</td>\n",
              "      <td>4.366150e+07</td>\n",
              "      <td>0.113000</td>\n",
              "      <td>29.251050</td>\n",
              "      <td>4.218050</td>\n",
              "      <td>0.078800</td>\n",
              "      <td>3.033400e+07</td>\n",
              "      <td>0.000000</td>\n",
              "      <td>1.000000</td>\n",
              "    </tr>\n",
              "    <tr>\n",
              "      <th>75%</th>\n",
              "      <td>2.139258e+09</td>\n",
              "      <td>3.019341e+08</td>\n",
              "      <td>0.290000</td>\n",
              "      <td>64.901950</td>\n",
              "      <td>13.153500</td>\n",
              "      <td>0.211475</td>\n",
              "      <td>2.659730e+08</td>\n",
              "      <td>0.067125</td>\n",
              "      <td>1.000000</td>\n",
              "    </tr>\n",
              "    <tr>\n",
              "      <th>max</th>\n",
              "      <td>5.336270e+11</td>\n",
              "      <td>7.089800e+10</td>\n",
              "      <td>3090.870000</td>\n",
              "      <td>127441.758100</td>\n",
              "      <td>95827.710300</td>\n",
              "      <td>12739.000000</td>\n",
              "      <td>9.414620e+10</td>\n",
              "      <td>167.328600</td>\n",
              "      <td>1.000000</td>\n",
              "    </tr>\n",
              "  </tbody>\n",
              "</table>\n",
              "</div>\n",
              "      <button class=\"colab-df-convert\" onclick=\"convertToInteractive('df-cb7cf6eb-0d7f-4e0b-990e-055dd04873e6')\"\n",
              "              title=\"Convert this dataframe to an interactive table.\"\n",
              "              style=\"display:none;\">\n",
              "        \n",
              "  <svg xmlns=\"http://www.w3.org/2000/svg\" height=\"24px\"viewBox=\"0 0 24 24\"\n",
              "       width=\"24px\">\n",
              "    <path d=\"M0 0h24v24H0V0z\" fill=\"none\"/>\n",
              "    <path d=\"M18.56 5.44l.94 2.06.94-2.06 2.06-.94-2.06-.94-.94-2.06-.94 2.06-2.06.94zm-11 1L8.5 8.5l.94-2.06 2.06-.94-2.06-.94L8.5 2.5l-.94 2.06-2.06.94zm10 10l.94 2.06.94-2.06 2.06-.94-2.06-.94-.94-2.06-.94 2.06-2.06.94z\"/><path d=\"M17.41 7.96l-1.37-1.37c-.4-.4-.92-.59-1.43-.59-.52 0-1.04.2-1.43.59L10.3 9.45l-7.72 7.72c-.78.78-.78 2.05 0 2.83L4 21.41c.39.39.9.59 1.41.59.51 0 1.02-.2 1.41-.59l7.78-7.78 2.81-2.81c.8-.78.8-2.07 0-2.86zM5.41 20L4 18.59l7.72-7.72 1.47 1.35L5.41 20z\"/>\n",
              "  </svg>\n",
              "      </button>\n",
              "      \n",
              "  <style>\n",
              "    .colab-df-container {\n",
              "      display:flex;\n",
              "      flex-wrap:wrap;\n",
              "      gap: 12px;\n",
              "    }\n",
              "\n",
              "    .colab-df-convert {\n",
              "      background-color: #E8F0FE;\n",
              "      border: none;\n",
              "      border-radius: 50%;\n",
              "      cursor: pointer;\n",
              "      display: none;\n",
              "      fill: #1967D2;\n",
              "      height: 32px;\n",
              "      padding: 0 0 0 0;\n",
              "      width: 32px;\n",
              "    }\n",
              "\n",
              "    .colab-df-convert:hover {\n",
              "      background-color: #E2EBFA;\n",
              "      box-shadow: 0px 1px 2px rgba(60, 64, 67, 0.3), 0px 1px 3px 1px rgba(60, 64, 67, 0.15);\n",
              "      fill: #174EA6;\n",
              "    }\n",
              "\n",
              "    [theme=dark] .colab-df-convert {\n",
              "      background-color: #3B4455;\n",
              "      fill: #D2E3FC;\n",
              "    }\n",
              "\n",
              "    [theme=dark] .colab-df-convert:hover {\n",
              "      background-color: #434B5C;\n",
              "      box-shadow: 0px 1px 3px 1px rgba(0, 0, 0, 0.15);\n",
              "      filter: drop-shadow(0px 1px 2px rgba(0, 0, 0, 0.3));\n",
              "      fill: #FFFFFF;\n",
              "    }\n",
              "  </style>\n",
              "\n",
              "      <script>\n",
              "        const buttonEl =\n",
              "          document.querySelector('#df-cb7cf6eb-0d7f-4e0b-990e-055dd04873e6 button.colab-df-convert');\n",
              "        buttonEl.style.display =\n",
              "          google.colab.kernel.accessAllowed ? 'block' : 'none';\n",
              "\n",
              "        async function convertToInteractive(key) {\n",
              "          const element = document.querySelector('#df-cb7cf6eb-0d7f-4e0b-990e-055dd04873e6');\n",
              "          const dataTable =\n",
              "            await google.colab.kernel.invokeFunction('convertToInteractive',\n",
              "                                                     [key], {});\n",
              "          if (!dataTable) return;\n",
              "\n",
              "          const docLinkHtml = 'Like what you see? Visit the ' +\n",
              "            '<a target=\"_blank\" href=https://colab.research.google.com/notebooks/data_table.ipynb>data table notebook</a>'\n",
              "            + ' to learn more about interactive tables.';\n",
              "          element.innerHTML = '';\n",
              "          dataTable['output_type'] = 'display_data';\n",
              "          await google.colab.output.renderOutput(dataTable, element);\n",
              "          const docLink = document.createElement('div');\n",
              "          docLink.innerHTML = docLinkHtml;\n",
              "          element.appendChild(docLink);\n",
              "        }\n",
              "      </script>\n",
              "    </div>\n",
              "  </div>\n",
              "  "
            ]
          },
          "metadata": {},
          "execution_count": 18
        }
      ],
      "source": [
        "df_final.describe()"
      ]
    },
    {
      "cell_type": "code",
      "execution_count": null,
      "metadata": {
        "id": "36JUhFGAFah6"
      },
      "outputs": [],
      "source": [
        "def Cat_in2(df,atr):\n",
        "  m = 0\n",
        "  for i in atr:\n",
        "    m = df[i].mean()\n",
        "    df[i] = [1 if x>m else 0 for x in df[i]]\n",
        "  return df\n",
        "  \n",
        "    # print()"
      ]
    },
    {
      "cell_type": "code",
      "execution_count": null,
      "metadata": {
        "id": "fG5jbf5-Fah7"
      },
      "outputs": [],
      "source": [
        "def Cat_in3(df,atr):\n",
        "  for i in atr:\n",
        "    a=df.describe()[i][\"50%\"]\n",
        "    b=df.describe()[i][\"75%\"]\n",
        "    for x in range(len(df[i])):\n",
        "      if df[i][x]<a:\n",
        "        df[i][x]=0\n",
        "      if df[i][x]>a:\n",
        "        if df[i][x]<b:\n",
        "          df[i][x]=1\n",
        "      if df[i][x]>b:\n",
        "        df[i][x]=2\n",
        "        \n",
        "    # df[i] = [0 if x<a else 1 if a<=x<b else 2 for x in df[i]]\n",
        "  return df"
      ]
    },
    {
      "cell_type": "code",
      "execution_count": null,
      "metadata": {
        "id": "fcP2NqvVFah7"
      },
      "outputs": [],
      "source": [
        "df_final_copy=df_final.copy()"
      ]
    },
    {
      "cell_type": "code",
      "execution_count": null,
      "metadata": {
        "id": "ndMp0Q93Fah8",
        "colab": {
          "base_uri": "https://localhost:8080/"
        },
        "outputId": "5f9c01f6-a6b3-4a1f-d020-a618d56935af"
      },
      "outputs": [
        {
          "output_type": "execute_result",
          "data": {
            "text/plain": [
              "Index(['Total debt', 'Operating Income', 'EBITDA Margin',\n",
              "       'daysOfPayablesOutstanding', 'Inventory Turnover', 'Revenue Growth',\n",
              "       'Free Cash Flow', 'returnOnCapitalEmployed', 'Class'],\n",
              "      dtype='object')"
            ]
          },
          "metadata": {},
          "execution_count": 22
        }
      ],
      "source": [
        "df_final_copy.columns"
      ]
    },
    {
      "cell_type": "markdown",
      "metadata": {
        "id": "gu37XSPhFah8"
      },
      "source": [
        "**Dividing Features into 2 and 3 discrete value ,\n",
        "if there numerical  range of  features is more , dividing into 3 discrete values rest 2**\n"
      ]
    },
    {
      "cell_type": "code",
      "execution_count": null,
      "metadata": {
        "id": "0nyFEkzPFah9"
      },
      "outputs": [],
      "source": [
        "col_cat2=[\"EBITDA Margin\",\"daysOfPayablesOutstanding\",\"Inventory Turnover\",\"Revenue Growth\",\"returnOnCapitalEmployed\"]\n",
        "col_cat3=[\"Total debt\",\"Operating Income\",\"Free Cash Flow\"]"
      ]
    },
    {
      "cell_type": "code",
      "execution_count": null,
      "metadata": {
        "id": "rMFqb5raFah9",
        "colab": {
          "base_uri": "https://localhost:8080/"
        },
        "outputId": "2b80e328-bd5d-4454-deb3-01d0f4bbeca2"
      },
      "outputs": [
        {
          "output_type": "stream",
          "name": "stderr",
          "text": [
            "<ipython-input-20-c8c54c9dc13d>:12: SettingWithCopyWarning: \n",
            "A value is trying to be set on a copy of a slice from a DataFrame\n",
            "\n",
            "See the caveats in the documentation: https://pandas.pydata.org/pandas-docs/stable/user_guide/indexing.html#returning-a-view-versus-a-copy\n",
            "  df[i][x]=2\n",
            "<ipython-input-20-c8c54c9dc13d>:10: SettingWithCopyWarning: \n",
            "A value is trying to be set on a copy of a slice from a DataFrame\n",
            "\n",
            "See the caveats in the documentation: https://pandas.pydata.org/pandas-docs/stable/user_guide/indexing.html#returning-a-view-versus-a-copy\n",
            "  df[i][x]=1\n",
            "<ipython-input-20-c8c54c9dc13d>:7: SettingWithCopyWarning: \n",
            "A value is trying to be set on a copy of a slice from a DataFrame\n",
            "\n",
            "See the caveats in the documentation: https://pandas.pydata.org/pandas-docs/stable/user_guide/indexing.html#returning-a-view-versus-a-copy\n",
            "  df[i][x]=0\n"
          ]
        }
      ],
      "source": [
        "# for i in col_cat2:\n",
        "    # print(i)\n",
        "df_final_copy=Cat_in2(df_final_copy,col_cat2)\n",
        "df_final_copy=Cat_in3(df_final_copy,col_cat3)"
      ]
    },
    {
      "cell_type": "code",
      "source": [
        "df_final_copy[\"Operating Income\"].unique()"
      ],
      "metadata": {
        "id": "jgpO28834p9K",
        "colab": {
          "base_uri": "https://localhost:8080/"
        },
        "outputId": "5ba2e0e9-f76b-4c7a-a192-b6642fa749d9"
      },
      "execution_count": null,
      "outputs": [
        {
          "output_type": "execute_result",
          "data": {
            "text/plain": [
              "array([2., 0., 1.])"
            ]
          },
          "metadata": {},
          "execution_count": 25
        }
      ]
    },
    {
      "cell_type": "code",
      "execution_count": null,
      "metadata": {
        "id": "wslNyp2QFah9",
        "colab": {
          "base_uri": "https://localhost:8080/"
        },
        "outputId": "d4910da5-b493-43bb-becd-60c3bc06eb16"
      },
      "outputs": [
        {
          "output_type": "execute_result",
          "data": {
            "text/plain": [
              "array([2., 1., 0.])"
            ]
          },
          "metadata": {},
          "execution_count": 26
        }
      ],
      "source": [
        "df_final_copy[\"Total debt\"].unique()"
      ]
    },
    {
      "cell_type": "code",
      "source": [
        "df_final_copy[\"returnOnCapitalEmployed\"].unique()\n"
      ],
      "metadata": {
        "id": "uWcDzI8BGM3m",
        "colab": {
          "base_uri": "https://localhost:8080/"
        },
        "outputId": "7ea14f50-05bf-4ff2-c044-bd1e106d1140"
      },
      "execution_count": null,
      "outputs": [
        {
          "output_type": "execute_result",
          "data": {
            "text/plain": [
              "array([1, 0])"
            ]
          },
          "metadata": {},
          "execution_count": 27
        }
      ]
    },
    {
      "cell_type": "code",
      "source": [
        "df_final_copy[\"returnOnCapitalEmployed\"].unique()\n"
      ],
      "metadata": {
        "id": "5xj-UobQGYUk",
        "colab": {
          "base_uri": "https://localhost:8080/"
        },
        "outputId": "607f5a19-f644-4ee8-dbdf-5202f6eb511c"
      },
      "execution_count": null,
      "outputs": [
        {
          "output_type": "execute_result",
          "data": {
            "text/plain": [
              "array([1, 0])"
            ]
          },
          "metadata": {},
          "execution_count": 28
        }
      ]
    },
    {
      "cell_type": "markdown",
      "metadata": {
        "id": "s0zUim4vFah-"
      },
      "source": [
        "Finding Probabilities of Independence feature"
      ]
    },
    {
      "cell_type": "code",
      "execution_count": null,
      "metadata": {
        "id": "ewoory12Fah-",
        "colab": {
          "base_uri": "https://localhost:8080/"
        },
        "outputId": "cef1c1b2-220b-4d1b-8cc7-ee63b8159019"
      },
      "outputs": [
        {
          "output_type": "stream",
          "name": "stdout",
          "text": [
            "{'Total debt': [0.5, 0.25, 0.25], 'Operating Income': [0.5, 0.25, 0.25], 'EBITDA Margin': [0.1084, 0.8916], 'daysOfPayablesOutstanding': [0.9517, 0.0483], 'Inventory Turnover': [0.9192, 0.0808], 'Revenue Growth': [0.9556, 0.0444], 'Free Cash Flow': [0.5, 0.25, 0.25], 'returnOnCapitalEmployed': [0.0772, 0.9228], 'Class': [0.3065, 0.6935]}\n"
          ]
        }
      ],
      "source": [
        "d = {}\n",
        "\n",
        "def get_prob(atr):\n",
        "    l = len(df_final_copy)\n",
        "    uniq = sorted(df_final_copy[atr].unique())\n",
        "    p = [round(len(df_final_copy[df_final_copy[atr] == x])/l, 4) for x in uniq]\n",
        "    d[atr] = p\n",
        "cols = df_final_copy.columns\n",
        "for i in cols:\n",
        "  get_prob(i)\n",
        "print(d)\n"
      ]
    },
    {
      "cell_type": "code",
      "execution_count": null,
      "metadata": {
        "id": "9D5yVDVXFah-",
        "colab": {
          "base_uri": "https://localhost:8080/"
        },
        "outputId": "a5ec23b3-2526-4016-d956-ea22dabb59f9"
      },
      "outputs": [
        {
          "output_type": "execute_result",
          "data": {
            "text/plain": [
              "[[0.7855, 0.2559, 0.173], [0.1781, 0.5036, 0.1403], [0.0364, 0.2404, 0.6867]]"
            ]
          },
          "metadata": {},
          "execution_count": 30
        }
      ],
      "source": [
        "def dep1_prob(atr, dep):\n",
        "  l = len(df_final_copy)\n",
        "  u1 = sorted(df_final_copy[atr].unique())\n",
        "  u2 = sorted(df_final_copy[dep].unique())\n",
        "  p = []\n",
        "  for i in u1:\n",
        "    a = []\n",
        "    for j in u2:\n",
        "      a.append(round(len(df_final_copy[(df_final_copy[atr] == i) & (df_final_copy[dep] == j)])/len(df_final_copy[df_final_copy[dep] == j]), 4))\n",
        "    p.append(a)\n",
        "  return p\n",
        "\n",
        "# dep1_prob(\"Total debt\", \"Operating Income\")\n",
        "dep1_prob(\"Operating Income\",\"Total debt\")"
      ]
    },
    {
      "cell_type": "code",
      "execution_count": null,
      "metadata": {
        "id": "izshPRGbFah_",
        "colab": {
          "base_uri": "https://localhost:8080/"
        },
        "outputId": "8dd6141b-9ff1-411d-b3e6-02d4175c8c50"
      },
      "outputs": [
        {
          "output_type": "execute_result",
          "data": {
            "text/plain": [
              "[[0.189, 0.0182, 0.0373], [0.811, 0.9818, 0.9627]]"
            ]
          },
          "metadata": {},
          "execution_count": 31
        }
      ],
      "source": [
        "# dep1_prob(\"Operating Income\",\"EBITDA Margin\")\n",
        "dep1_prob(\"EBITDA Margin\",\"Operating Income\")"
      ]
    },
    {
      "cell_type": "code",
      "execution_count": null,
      "metadata": {
        "id": "O-8M7A_VFah_",
        "colab": {
          "base_uri": "https://localhost:8080/"
        },
        "outputId": "96fe2ee1-578c-474b-8a5b-aa271afc5594"
      },
      "outputs": [
        {
          "output_type": "execute_result",
          "data": {
            "text/plain": [
              "[[0.9546, 0.9799, 0.9317, 1.0], [0.0454, 0.0201, 0.0683, 0.0]]"
            ]
          },
          "metadata": {},
          "execution_count": 32
        }
      ],
      "source": [
        "def node2_prob(atr, dep1, dep2):\n",
        "  u1 = sorted(df_final_copy[atr].unique())\n",
        "  u2 = sorted(df_final_copy[dep1].unique())\n",
        "  u3 = sorted(df_final_copy[dep2].unique())\n",
        "  p = []\n",
        "  for i in u1:\n",
        "    a = []\n",
        "    for j in u2:\n",
        "      for k in u3:\n",
        "        a.append(round(len(df_final_copy[(df_final_copy[atr] == i) & (df_final_copy[dep1] == j) & (df_final_copy[dep2] == k)])/len(df_final_copy[(df_final_copy[dep1] == j) & (df_final_copy[dep2] == k)]), 4))\n",
        "    p.append(a)\n",
        "  return p\n",
        "\n",
        "# node2_prob('daysOfPayablesOutstanding', 'Inventory Turnover', 'Revenue Growth')\n",
        "node2_prob( 'Revenue Growth','daysOfPayablesOutstanding', 'Inventory Turnover')"
      ]
    },
    {
      "cell_type": "markdown",
      "metadata": {
        "id": "xMu43XoEFaiA"
      },
      "source": [
        "**Probablistic Graphical Model Relationships**\n",
        "\n",
        "* In order to create a Probablistic Graphical Model representing this dataset , we first need to find the relationships in the dataset and the flow of influence that is essential in perspective of the PGM."
      ]
    },
    {
      "cell_type": "code",
      "execution_count": null,
      "metadata": {
        "id": "-5MmXV37FaiA",
        "colab": {
          "base_uri": "https://localhost:8080/"
        },
        "outputId": "ca0b663a-0a3c-4910-a43d-43cdc4faa61c"
      },
      "outputs": [
        {
          "output_type": "stream",
          "name": "stdout",
          "text": [
            "Looking in indexes: https://pypi.org/simple, https://us-python.pkg.dev/colab-wheels/public/simple/\n",
            "Requirement already satisfied: networkx in /usr/local/lib/python3.8/dist-packages (2.8.8)\n",
            "Looking in indexes: https://pypi.org/simple, https://us-python.pkg.dev/colab-wheels/public/simple/\n",
            "Collecting pgmpy\n",
            "  Downloading pgmpy-0.1.20-py3-none-any.whl (1.9 MB)\n",
            "\u001b[K     |████████████████████████████████| 1.9 MB 26.6 MB/s \n",
            "\u001b[?25hRequirement already satisfied: joblib in /usr/local/lib/python3.8/dist-packages (from pgmpy) (1.2.0)\n",
            "Requirement already satisfied: opt-einsum in /usr/local/lib/python3.8/dist-packages (from pgmpy) (3.3.0)\n",
            "Requirement already satisfied: scikit-learn in /usr/local/lib/python3.8/dist-packages (from pgmpy) (1.0.2)\n",
            "Requirement already satisfied: statsmodels in /usr/local/lib/python3.8/dist-packages (from pgmpy) (0.12.2)\n",
            "Requirement already satisfied: torch in /usr/local/lib/python3.8/dist-packages (from pgmpy) (1.13.0+cu116)\n",
            "Requirement already satisfied: pandas in /usr/local/lib/python3.8/dist-packages (from pgmpy) (1.3.5)\n",
            "Requirement already satisfied: numpy in /usr/local/lib/python3.8/dist-packages (from pgmpy) (1.21.6)\n",
            "Requirement already satisfied: tqdm in /usr/local/lib/python3.8/dist-packages (from pgmpy) (4.64.1)\n",
            "Requirement already satisfied: scipy in /usr/local/lib/python3.8/dist-packages (from pgmpy) (1.7.3)\n",
            "Requirement already satisfied: networkx in /usr/local/lib/python3.8/dist-packages (from pgmpy) (2.8.8)\n",
            "Requirement already satisfied: pyparsing in /usr/local/lib/python3.8/dist-packages (from pgmpy) (3.0.9)\n",
            "Requirement already satisfied: pytz>=2017.3 in /usr/local/lib/python3.8/dist-packages (from pandas->pgmpy) (2022.6)\n",
            "Requirement already satisfied: python-dateutil>=2.7.3 in /usr/local/lib/python3.8/dist-packages (from pandas->pgmpy) (2.8.2)\n",
            "Requirement already satisfied: six>=1.5 in /usr/local/lib/python3.8/dist-packages (from python-dateutil>=2.7.3->pandas->pgmpy) (1.15.0)\n",
            "Requirement already satisfied: threadpoolctl>=2.0.0 in /usr/local/lib/python3.8/dist-packages (from scikit-learn->pgmpy) (3.1.0)\n",
            "Requirement already satisfied: patsy>=0.5 in /usr/local/lib/python3.8/dist-packages (from statsmodels->pgmpy) (0.5.3)\n",
            "Requirement already satisfied: typing-extensions in /usr/local/lib/python3.8/dist-packages (from torch->pgmpy) (4.4.0)\n",
            "Installing collected packages: pgmpy\n",
            "Successfully installed pgmpy-0.1.20\n"
          ]
        }
      ],
      "source": [
        "!pip install networkx\n",
        "!pip install pgmpy"
      ]
    },
    {
      "cell_type": "code",
      "source": [
        "prob_OI = dep1_prob(\"Operating Income\",\"Total debt\")\n",
        "l = []\n",
        "for i in prob_OI:\n",
        "  l.append([i[0]])\n",
        "l"
      ],
      "metadata": {
        "id": "oe-svIGnwAoM",
        "colab": {
          "base_uri": "https://localhost:8080/"
        },
        "outputId": "05272e4f-4407-4207-925e-5afdb7c70b53"
      },
      "execution_count": null,
      "outputs": [
        {
          "output_type": "execute_result",
          "data": {
            "text/plain": [
              "[[0.7855], [0.1781], [0.0364]]"
            ]
          },
          "metadata": {},
          "execution_count": 34
        }
      ]
    },
    {
      "cell_type": "code",
      "source": [
        "dep1_prob(\"Operating Income\",\"Total debt\")"
      ],
      "metadata": {
        "id": "GizosaC_4RMh",
        "colab": {
          "base_uri": "https://localhost:8080/"
        },
        "outputId": "9c4486fd-c9f0-4626-9fe2-ebaaa89dd278"
      },
      "execution_count": null,
      "outputs": [
        {
          "output_type": "execute_result",
          "data": {
            "text/plain": [
              "[[0.7855, 0.2559, 0.173], [0.1781, 0.5036, 0.1403], [0.0364, 0.2404, 0.6867]]"
            ]
          },
          "metadata": {},
          "execution_count": 35
        }
      ]
    },
    {
      "cell_type": "code",
      "source": [
        "prob_OI = dep1_prob(\"EBITDA Margin\",\"Operating Income\")\n",
        "l2 = []\n",
        "for i in prob_OI:\n",
        "  l.append([i[0]])\n",
        "l2"
      ],
      "metadata": {
        "id": "3zP5ASoV09rM",
        "colab": {
          "base_uri": "https://localhost:8080/"
        },
        "outputId": "70b45ac5-69ee-4b95-d43d-b53c150dea55"
      },
      "execution_count": null,
      "outputs": [
        {
          "output_type": "execute_result",
          "data": {
            "text/plain": [
              "[]"
            ]
          },
          "metadata": {},
          "execution_count": 36
        }
      ]
    },
    {
      "cell_type": "code",
      "source": [
        "d"
      ],
      "metadata": {
        "id": "ThLXuNTyyoVE",
        "colab": {
          "base_uri": "https://localhost:8080/"
        },
        "outputId": "dd686e2a-8893-428a-d8f2-a49a6f9b1df6"
      },
      "execution_count": null,
      "outputs": [
        {
          "output_type": "execute_result",
          "data": {
            "text/plain": [
              "{'Total debt': [0.5, 0.25, 0.25],\n",
              " 'Operating Income': [0.5, 0.25, 0.25],\n",
              " 'EBITDA Margin': [0.1084, 0.8916],\n",
              " 'daysOfPayablesOutstanding': [0.9517, 0.0483],\n",
              " 'Inventory Turnover': [0.9192, 0.0808],\n",
              " 'Revenue Growth': [0.9556, 0.0444],\n",
              " 'Free Cash Flow': [0.5, 0.25, 0.25],\n",
              " 'returnOnCapitalEmployed': [0.0772, 0.9228],\n",
              " 'Class': [0.3065, 0.6935]}"
            ]
          },
          "metadata": {},
          "execution_count": 37
        }
      ]
    },
    {
      "cell_type": "code",
      "source": [
        "d['Free Cash Flow'][1]"
      ],
      "metadata": {
        "id": "kNecDuzMymdv",
        "colab": {
          "base_uri": "https://localhost:8080/"
        },
        "outputId": "dd5680e5-8e74-49c3-c3b6-a628b4bb9a8d"
      },
      "execution_count": null,
      "outputs": [
        {
          "output_type": "execute_result",
          "data": {
            "text/plain": [
              "0.25"
            ]
          },
          "metadata": {},
          "execution_count": 38
        }
      ]
    },
    {
      "cell_type": "code",
      "source": [
        "node2_prob('Revenue Growth','daysOfPayablesOutstanding', 'Inventory Turnover')"
      ],
      "metadata": {
        "id": "pnyXPFrM6u44",
        "colab": {
          "base_uri": "https://localhost:8080/"
        },
        "outputId": "13323618-5e23-4a9b-b6eb-c60cbdf68ff9"
      },
      "execution_count": null,
      "outputs": [
        {
          "output_type": "execute_result",
          "data": {
            "text/plain": [
              "[[0.9546, 0.9799, 0.9317, 1.0], [0.0454, 0.0201, 0.0683, 0.0]]"
            ]
          },
          "metadata": {},
          "execution_count": 39
        }
      ]
    },
    {
      "cell_type": "code",
      "source": [
        "from decimal import DivisionByZero\n",
        "def dep4_prob(atr, dep1, dep2, dep3, dep4):\n",
        "  u1 = sorted(df_final_copy[atr].unique())\n",
        "  u2 = sorted(df_final_copy[dep1].unique())\n",
        "  u3 = sorted(df_final_copy[dep2].unique())\n",
        "  u4 = sorted(df_final_copy[dep3].unique())\n",
        "  u5 = sorted(df_final_copy[dep4].unique())\n",
        "  p = []\n",
        "  for i in u1:\n",
        "    a = []\n",
        "    for j in u2:\n",
        "      for k in u3:\n",
        "        for l in u4:\n",
        "          for m in u5:\n",
        "            dn=len(df_final_copy[(df_final_copy[dep1] == j) & (df_final_copy[dep2] == k) & (df_final_copy[dep3] == l) & (df_final_copy[dep4] == m)])\n",
        "            if (dn):\n",
        "              a.append(round(len(df_final_copy[(df_final_copy[atr] == i) & (df_final_copy[dep1] == j) & (df_final_copy[dep2] == k) & (df_final_copy[dep3] == l) & (df_final_copy[dep4] == m)])/len(df_final_copy[(df_final_copy[dep1] == j) & (df_final_copy[dep2] == k) & (df_final_copy[dep3] == l) & (df_final_copy[dep4] == m)]), 4))\n",
        "            else:\n",
        "              a.append(0)\n",
        "    p.append(a)\n",
        "  return p"
      ],
      "metadata": {
        "id": "tnKPncpy-TV8"
      },
      "execution_count": null,
      "outputs": []
    },
    {
      "cell_type": "code",
      "source": [
        "# len(dep4_prob(\"Class\",\"returnOnCapitalEmployed\",\"Free Cash Flow\",\"EBITDA Margin\",\"Revenue Growth\")[0])\n",
        "res=dep4_prob(\"Class\",\"returnOnCapitalEmployed\",\"Free Cash Flow\",\"EBITDA Margin\",\"Revenue Growth\")\n"
      ],
      "metadata": {
        "id": "Zu8kZ0P5-Xz7"
      },
      "execution_count": null,
      "outputs": []
    },
    {
      "cell_type": "code",
      "source": [
        "for i in range(24):\n",
        "  if((res[0][i]+res[1][i])==1):\n",
        "    pass\n",
        "  else:\n",
        "    res[1][i]=1-res[0][i]"
      ],
      "metadata": {
        "id": "o9kplj-QWNrE"
      },
      "execution_count": null,
      "outputs": []
    },
    {
      "cell_type": "code",
      "execution_count": null,
      "metadata": {
        "id": "wp6KeVETFaiA"
      },
      "outputs": [],
      "source": [
        "from pgmpy.models import BayesianNetwork\n",
        "from pgmpy.factors.discrete import TabularCPD\n",
        "\n",
        "InvestmentReturn_model = BayesianNetwork([('daysOfPayablesOutstanding', 'Revenue Growth'), ('Inventory Turnover', 'Revenue Growth'), ('returnOnCapitalEmployed', 'Class'), ('Free Cash Flow', 'Class'), ('Total debt', 'Operating Income'), ('Operating Income', 'EBITDA Margin'), ('EBITDA Margin', 'Class'), ('Revenue Growth', 'Class')])\n",
        "cpd_roce = TabularCPD('returnOnCapitalEmployed', 2, [[d['returnOnCapitalEmployed'][0]], [d['returnOnCapitalEmployed'][1]]])\n",
        "cpd_free_cashflow = TabularCPD('Free Cash Flow', 3, [[d['Free Cash Flow'][0]], [d['Free Cash Flow'][1]],[d['Free Cash Flow'][2]]])\n",
        "cpd_total_debt = TabularCPD('Total debt', 3, [[d['Total debt'][0]], [d['Total debt'][1]], [d['Total debt'][2]]])\n",
        "cpd_operating_income = TabularCPD('Operating Income', 3,dep1_prob(\"Operating Income\",\"Total debt\"),[\"Total debt\"],[3])\n",
        "cpd_ebitda = TabularCPD('EBITDA Margin', 2, dep1_prob(\"EBITDA Margin\",\"Operating Income\"),[\"Operating Income\"],[3])\n",
        "cpd_daysofPayable = TabularCPD('daysOfPayablesOutstanding', 2, [[d['daysOfPayablesOutstanding'][0]], [d['daysOfPayablesOutstanding'][1]]])\n",
        "cpd_inventory = TabularCPD('Inventory Turnover', 2, [[d['Inventory Turnover'][0]], [d['Inventory Turnover'][1]]])\n",
        "# cpd_inventory=TabularCPD('Total debt', 3, [[d['Total debt'][0]], [d['Total debt'][1]], [d['Total debt'][2]]])\n",
        "cpd_revenue_growth = TabularCPD('Revenue Growth', 2, node2_prob('Revenue Growth','daysOfPayablesOutstanding', 'Inventory Turnover'),[\"daysOfPayablesOutstanding\",\"Inventory Turnover\"],[2,2])\n",
        "# cpd_class = TabularCPD('Class', 2, dep4_prob(\"Class\",\"returnOnCapitalEmployed\",\"Free Cash Flow\",\"EBITDA Margin\",\"Revenue Growth\"),[\"returnOnCapitalEmployed\",\"Free Cash Flow\",\"EBITDA Margin\",\"Revenue Growth\"],[2,3,2,2])\n",
        "cpd_class = TabularCPD('Class', 2, res,[\"returnOnCapitalEmployed\",\"Free Cash Flow\",\"EBITDA Margin\",\"Revenue Growth\"],[2,3,2,2])\n",
        "\n",
        "# cpd_Diabetes = TabularCPD('Diabetes', 2, dep_prob('Outcome', 'Glucose'), ['Glucose'], [3])\n",
        "# cpd_Insulin = TabularCPD('Insulin', 2, dep_prob2('Insulin', 'Age', 'DiabetesPedigreeFunction'), ['Age', 'PedFunc'], [3, 2])\n",
        "# cpd_BloodP = TabularCPD('BloodP', 2, dep_prob4('BloodPressure', 'BMI', 'Insulin', 'Glucose', 'Outcome'), ['BMI', 'Insulin', 'Glucose', 'Diabetes'], [2, 2, 3, 2])\n"
      ]
    },
    {
      "cell_type": "code",
      "source": [
        "InvestmentReturn_model.add_cpds(cpd_total_debt,cpd_operating_income,cpd_ebitda,cpd_revenue_growth,cpd_free_cashflow,cpd_roce,cpd_daysofPayable,cpd_inventory,cpd_class)"
      ],
      "metadata": {
        "id": "4hUX1ofj8VPz"
      },
      "execution_count": null,
      "outputs": []
    },
    {
      "cell_type": "code",
      "source": [
        "InvestmentReturn_model.check_model()"
      ],
      "metadata": {
        "id": "L9iSFyBJ8aI-",
        "colab": {
          "base_uri": "https://localhost:8080/"
        },
        "outputId": "5d80e5ae-42ca-4afe-fd8a-ab618204ff37"
      },
      "execution_count": null,
      "outputs": [
        {
          "output_type": "execute_result",
          "data": {
            "text/plain": [
              "True"
            ]
          },
          "metadata": {},
          "execution_count": 45
        }
      ]
    },
    {
      "cell_type": "code",
      "source": [
        "print(cpd_class)"
      ],
      "metadata": {
        "id": "s_Od5arFW8eP",
        "colab": {
          "base_uri": "https://localhost:8080/"
        },
        "outputId": "46fc17ee-16e5-413e-da3c-f71ee41a1e57"
      },
      "execution_count": null,
      "outputs": [
        {
          "output_type": "stream",
          "name": "stdout",
          "text": [
            "+-------------------------+-----+----------------------------+\n",
            "| returnOnCapitalEmployed | ... | returnOnCapitalEmployed(1) |\n",
            "+-------------------------+-----+----------------------------+\n",
            "| Free Cash Flow          | ... | Free Cash Flow(2)          |\n",
            "+-------------------------+-----+----------------------------+\n",
            "| EBITDA Margin           | ... | EBITDA Margin(1)           |\n",
            "+-------------------------+-----+----------------------------+\n",
            "| Revenue Growth          | ... | Revenue Growth(1)          |\n",
            "+-------------------------+-----+----------------------------+\n",
            "| Class(0)                | ... | 0.2                        |\n",
            "+-------------------------+-----+----------------------------+\n",
            "| Class(1)                | ... | 0.8                        |\n",
            "+-------------------------+-----+----------------------------+\n"
          ]
        }
      ]
    },
    {
      "cell_type": "code",
      "execution_count": null,
      "metadata": {
        "id": "PDt9J6OAFaiB",
        "colab": {
          "base_uri": "https://localhost:8080/",
          "height": 319
        },
        "outputId": "c77b6e74-0d6e-49a0-8a52-76100cecc106"
      },
      "outputs": [
        {
          "output_type": "display_data",
          "data": {
            "text/plain": [
              "<Figure size 432x288 with 1 Axes>"
            ],
            "image/png": "[encoded data removed]"
          },
          "metadata": {}
        }
      ],
      "source": [
        "import networkx as nx\n",
        "import matplotlib.pyplot as plt\n",
        "edges = [('Total debt', 'Operating Income'), ('Operating Income', 'EBITDA Margin'), ('EBITDA Margin', 'Investment Return'), ('daysOfPayablesOutstanding', 'Revenue Growth'),('Revenue Growth','Investment Return'), ('Inventory Turnover', 'Revenue Growth'), ('Free Cash Flow', 'Investment Return'), ('returnOnCapitalEmployed', 'Investment Return')]\n",
        "g = nx.DiGraph()\n",
        "\n",
        "for i in edges:\n",
        "  g.add_edge(i[0], i[1])\n",
        "\n",
        "pos = {'Total debt': (-3,3), 'Operating Income':(-3,2), 'EBITDA Margin':(-1.5,1), 'Investment Return':(0,0), 'Revenue Growth':(1.5,2), 'daysOfPayablesOutstanding':(0,3), 'Inventory Turnover':(3,3), 'Free Cash Flow':(-3,-1), 'returnOnCapitalEmployed':(3,-1)}\n",
        "\n",
        "options = {\n",
        "    \"font_size\": 10,\n",
        "    \"node_size\": 2000,\n",
        "    \"node_color\": \"white\",\n",
        "    \"edgecolors\": \"red\",\n",
        "    \"linewidths\": 2,\n",
        "    \"width\": 2,\n",
        "}\n",
        "\n",
        "nx.draw(g, **options, with_labels = True, pos=pos)"
      ]
    },
    {
      "cell_type": "markdown",
      "source": [
        "![PGM_flowchart.png](data:image/png;base64,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)"
      ],
      "metadata": {
        "id": "zFgrg4__qrg-"
      }
    },
    {
      "cell_type": "markdown",
      "source": [
        "**INFERENCE**"
      ],
      "metadata": {
        "id": "buZBkCxPxNWL"
      }
    },
    {
      "cell_type": "code",
      "source": [
        "from pgmpy.inference import VariableElimination\n",
        "infer = VariableElimination(InvestmentReturn_model)\n",
        "g_dist = infer.query(['Revenue Growth'])\n",
        "print(g_dist)"
      ],
      "metadata": {
        "id": "htPunOWzxTUg",
        "colab": {
          "base_uri": "https://localhost:8080/"
        },
        "outputId": "a2fc0644-ecc7-4034-f0bd-a7ea2e23ad3c"
      },
      "execution_count": null,
      "outputs": [
        {
          "output_type": "stream",
          "name": "stdout",
          "text": [
            "+-------------------+-----------------------+\n",
            "| Revenue Growth    |   phi(Revenue Growth) |\n",
            "+===================+=======================+\n",
            "| Revenue Growth(0) |                0.9557 |\n",
            "+-------------------+-----------------------+\n",
            "| Revenue Growth(1) |                0.0443 |\n",
            "+-------------------+-----------------------+\n"
          ]
        }
      ]
    },
    {
      "cell_type": "code",
      "source": [
        "print(infer.query(['Class']))\n"
      ],
      "metadata": {
        "id": "t_F6FHkevB3j",
        "colab": {
          "base_uri": "https://localhost:8080/"
        },
        "outputId": "2a40420a-ac79-4080-d34c-83e27498be64"
      },
      "execution_count": null,
      "outputs": [
        {
          "output_type": "stream",
          "name": "stdout",
          "text": [
            "+----------+--------------+\n",
            "| Class    |   phi(Class) |\n",
            "+==========+==============+\n",
            "| Class(0) |       0.2896 |\n",
            "+----------+--------------+\n",
            "| Class(1) |       0.7104 |\n",
            "+----------+--------------+\n"
          ]
        }
      ]
    },
    {
      "cell_type": "markdown",
      "source": [
        "##Causal Reasoning"
      ],
      "metadata": {
        "id": "rXYcWmuABifT"
      }
    },
    {
      "cell_type": "code",
      "source": [
        "print(infer.query(['Revenue Growth'], evidence={'Inventory Turnover': 0}))\n"
      ],
      "metadata": {
        "colab": {
          "base_uri": "https://localhost:8080/"
        },
        "id": "iMz29cmkB6gw",
        "outputId": "9a08e2c4-0ba5-4a24-c4a0-857a5c133db3"
      },
      "execution_count": null,
      "outputs": [
        {
          "output_type": "stream",
          "name": "stdout",
          "text": [
            "+-------------------+-----------------------+\n",
            "| Revenue Growth    |   phi(Revenue Growth) |\n",
            "+===================+=======================+\n",
            "| Revenue Growth(0) |                0.9535 |\n",
            "+-------------------+-----------------------+\n",
            "| Revenue Growth(1) |                0.0465 |\n",
            "+-------------------+-----------------------+\n"
          ]
        }
      ]
    },
    {
      "cell_type": "code",
      "source": [
        "print(infer.query(['Class'], evidence={'Revenue Growth': 0}))"
      ],
      "metadata": {
        "id": "eriwyVoZxUza",
        "colab": {
          "base_uri": "https://localhost:8080/"
        },
        "outputId": "96375468-b7f3-4b7b-ac33-661a93d0224b"
      },
      "execution_count": null,
      "outputs": [
        {
          "output_type": "stream",
          "name": "stdout",
          "text": [
            "+----------+--------------+\n",
            "| Class    |   phi(Class) |\n",
            "+==========+==============+\n",
            "| Class(0) |       0.2899 |\n",
            "+----------+--------------+\n",
            "| Class(1) |       0.7101 |\n",
            "+----------+--------------+\n"
          ]
        }
      ]
    },
    {
      "cell_type": "markdown",
      "source": [
        "##Intercausal Reasoning"
      ],
      "metadata": {
        "id": "IsAFFWMZCHpb"
      }
    },
    {
      "cell_type": "code",
      "source": [
        "print(infer.query(['Class'], evidence={'Revenue Growth': 0,\"returnOnCapitalEmployed\":0,\"Free Cash Flow\":0,\"EBITDA Margin\":0}))\n",
        "# infer.query(['Class'], evidence={'Revenue Growth': 0,\"returnOnCapitalEmployed\":0,\"Free Cash Flow\":0,\"EBITDA Margin\":0})\n"
      ],
      "metadata": {
        "id": "0DlAk0Wft1gj",
        "colab": {
          "base_uri": "https://localhost:8080/"
        },
        "outputId": "d156b981-2fce-44bb-d354-b0757bf83df9"
      },
      "execution_count": null,
      "outputs": [
        {
          "output_type": "stream",
          "name": "stdout",
          "text": [
            "+----------+--------------+\n",
            "| Class    |   phi(Class) |\n",
            "+==========+==============+\n",
            "| Class(0) |       0.5327 |\n",
            "+----------+--------------+\n",
            "| Class(1) |       0.4673 |\n",
            "+----------+--------------+\n"
          ]
        }
      ]
    },
    {
      "cell_type": "code",
      "source": [
        "import numpy as np\n",
        "import pandas as pd\n",
        "from pgmpy.models import BayesianNetwork\n",
        "\n",
        "train_data = df_final_copy[:80]\n",
        "predict_data = df_final_copy[80:]\n",
        "InvestmentReturn_model.fit(df_final_copy)\n",
        "predict_data = predict_data.copy()\n",
        "predict_data.drop('Class', axis=1, inplace=True)\n",
        "y_prob = InvestmentReturn_model.predict_probability(predict_data)"
      ],
      "metadata": {
        "id": "_B6tn1BqxfNL"
      },
      "execution_count": null,
      "outputs": []
    },
    {
      "cell_type": "code",
      "source": [
        "Class_pred=[1 if y_prob['Class_0'][i]<0.5 else 0 for i in range(80,4313)]"
      ],
      "metadata": {
        "id": "jEOzQeNZjBvR"
      },
      "execution_count": null,
      "outputs": []
    },
    {
      "cell_type": "code",
      "source": [
        "def acc(Class_pred,Trueclass):\n",
        "  n=len(Trueclass)\n",
        "  tp=0\n",
        "  tn=0\n",
        "  fp=0\n",
        "  fn=0\n",
        "  for i in range(len(Trueclass)):\n",
        "    if Class_pred[i]==Trueclass[i]:\n",
        "      if Class_pred[i] == 1:\n",
        "        tp+=1\n",
        "      else:\n",
        "        tn+=1\n",
        "    else:\n",
        "      if(Trueclass[i] == 0):\n",
        "        fp+=1\n",
        "      else:\n",
        "        fn+=1\n",
        "\n",
        "  precision = (tp/(tp+fp))\n",
        "  recall = (tp/(tp+fn))\n",
        "  print(f\"The accuracy is {((tp+tn)/n)*100}%\")\n",
        "  print(f\"The precision is {precision}\")\n",
        "  print(f\"The recall is {recall}\")\n",
        "  print(f\"The f1-score is {2*(precision*recall)/(precision+recall)}\")\n"
      ],
      "metadata": {
        "id": "W-dHnxs4kNlK"
      },
      "execution_count": null,
      "outputs": []
    },
    {
      "cell_type": "code",
      "source": [
        "dfn=df_final_copy[80:4313]\n",
        "dfn.reset_index(inplace=True)\n",
        "dfn[\"Class\"][0]\n",
        "# dfn.reset_index(inplace=True)\n",
        "len(Class_pred)\n",
        "# dfn.drop(columns=\"ïndex\",inplace=True)\n",
        "len(dfn)\n"
      ],
      "metadata": {
        "id": "p8zzh8k6mRbz",
        "colab": {
          "base_uri": "https://localhost:8080/"
        },
        "outputId": "a32c9e92-29f2-467e-ed79-43844a4be68a"
      },
      "execution_count": null,
      "outputs": [
        {
          "output_type": "execute_result",
          "data": {
            "text/plain": [
              "4233"
            ]
          },
          "metadata": {},
          "execution_count": 56
        }
      ]
    },
    {
      "cell_type": "code",
      "source": [
        "acc(Class_pred,dfn[\"Class\"])"
      ],
      "metadata": {
        "id": "o9U4myt-mCuk",
        "colab": {
          "base_uri": "https://localhost:8080/"
        },
        "outputId": "17ce4c08-2c01-4bce-b95a-0aaf3744fe42"
      },
      "execution_count": null,
      "outputs": [
        {
          "output_type": "stream",
          "name": "stdout",
          "text": [
            "The accuracy is 71.15520907158044%\n",
            "The precision is 0.7290719443701524\n",
            "The recall is 0.929107021131561\n",
            "The f1-score is 0.8170238273640043\n"
          ]
        }
      ]
    },
    {
      "cell_type": "code",
      "source": [
        "cf_matrix = confusion_matrix(Class_pred,dfn[\"Class\"])\n",
        "sns.heatmap(cf_matrix/np.sum(cf_matrix), annot=True, \n",
        "            fmt='.2%', cmap='Blues')"
      ],
      "metadata": {
        "id": "L-wUAd7yOc9V",
        "colab": {
          "base_uri": "https://localhost:8080/"
        },
        "outputId": "82089202-37bd-4761-f5a8-bbffc35c4563"
      },
      "execution_count": null,
      "outputs": [
        {
          "output_type": "execute_result",
          "data": {
            "text/plain": [
              "<matplotlib.axes._subplots.AxesSubplot at 0x7f26e0bc7580>"
            ]
          },
          "metadata": {},
          "execution_count": 58
        },
        {
          "output_type": "display_data",
          "data": {
            "text/plain": [
              "<Figure size 432x288 with 2 Axes>"
            ],
            "image/png": "[encoded data removed]"
          },
          "metadata": {
            "needs_background": "light"
          }
        }
      ]
    },
    {
      "cell_type": "markdown",
      "source": [
        "#Naive bayes"
      ],
      "metadata": {
        "id": "vnu-mENnvulO"
      }
    },
    {
      "cell_type": "code",
      "source": [
        "from pgmpy.models import NaiveBayes"
      ],
      "metadata": {
        "id": "zu3hNU-6bha2"
      },
      "execution_count": null,
      "outputs": []
    },
    {
      "cell_type": "code",
      "source": [
        "model = NaiveBayes()\n",
        "model.fit(df_final_copy,'Class')\n",
        "model.get_cpds()"
      ],
      "metadata": {
        "id": "DidJ61hjbrRE",
        "colab": {
          "base_uri": "https://localhost:8080/"
        },
        "outputId": "7be7e5c0-428e-42b3-b732-f930e0e8b419"
      },
      "execution_count": null,
      "outputs": [
        {
          "output_type": "execute_result",
          "data": {
            "text/plain": [
              "[<TabularCPD representing P(Class:2) at 0x7f26e2c17910>,\n",
              " <TabularCPD representing P(Total debt:3 | Class:2) at 0x7f26e0ba59a0>,\n",
              " <TabularCPD representing P(Operating Income:3 | Class:2) at 0x7f26e2c17c70>,\n",
              " <TabularCPD representing P(EBITDA Margin:2 | Class:2) at 0x7f26e0ba5970>,\n",
              " <TabularCPD representing P(daysOfPayablesOutstanding:2 | Class:2) at 0x7f26e0ba5940>,\n",
              " <TabularCPD representing P(Inventory Turnover:2 | Class:2) at 0x7f26e0ba3940>,\n",
              " <TabularCPD representing P(Revenue Growth:2 | Class:2) at 0x7f26e2c5d220>,\n",
              " <TabularCPD representing P(Free Cash Flow:3 | Class:2) at 0x7f26e0ba3100>,\n",
              " <TabularCPD representing P(returnOnCapitalEmployed:2 | Class:2) at 0x7f26e0ba3220>]"
            ]
          },
          "metadata": {},
          "execution_count": 60
        }
      ]
    },
    {
      "cell_type": "code",
      "source": [
        "for i in model.get_cpds():\n",
        "  print(i)"
      ],
      "metadata": {
        "id": "xpga-6YocKwd",
        "colab": {
          "base_uri": "https://localhost:8080/"
        },
        "outputId": "c998d6d4-9adb-495f-9099-4752d517ef5f"
      },
      "execution_count": null,
      "outputs": [
        {
          "output_type": "stream",
          "name": "stdout",
          "text": [
            "+----------+----------+\n",
            "| Class(0) | 0.306466 |\n",
            "+----------+----------+\n",
            "| Class(1) | 0.693534 |\n",
            "+----------+----------+\n",
            "+-----------------+---------------------+---------------------+\n",
            "| Class           | Class(0)            | Class(1)            |\n",
            "+-----------------+---------------------+---------------------+\n",
            "| Total debt(0.0) | 0.6820208023774146  | 0.4195666447800394  |\n",
            "+-----------------+---------------------+---------------------+\n",
            "| Total debt(1.0) | 0.1849925705794948  | 0.27872619829284306 |\n",
            "+-----------------+---------------------+---------------------+\n",
            "| Total debt(2.0) | 0.13298662704309064 | 0.3017071569271175  |\n",
            "+-----------------+---------------------+---------------------+\n",
            "+-----------------------+--------------------+---------------------+\n",
            "| Class                 | Class(0)           | Class(1)            |\n",
            "+-----------------------+--------------------+---------------------+\n",
            "| Operating Income(0.0) | 0.6835066864784547 | 0.4189100459619173  |\n",
            "+-----------------------+--------------------+---------------------+\n",
            "| Operating Income(1.0) | 0.1827637444279346 | 0.27971109652002624 |\n",
            "+-----------------------+--------------------+---------------------+\n",
            "| Operating Income(2.0) | 0.1337295690936107 | 0.3013788575180565  |\n",
            "+-----------------------+--------------------+---------------------+\n",
            "+------------------+---------------------+---------------------+\n",
            "| Class            | Class(0)            | Class(1)            |\n",
            "+------------------+---------------------+---------------------+\n",
            "| EBITDA Margin(0) | 0.13298662704309064 | 0.09750492449113592 |\n",
            "+------------------+---------------------+---------------------+\n",
            "| EBITDA Margin(1) | 0.8670133729569094  | 0.9024950755088641  |\n",
            "+------------------+---------------------+---------------------+\n",
            "+------------------------------+---------------------+----------------------+\n",
            "| Class                        | Class(0)            | Class(1)             |\n",
            "+------------------------------+---------------------+----------------------+\n",
            "| daysOfPayablesOutstanding(0) | 0.9301634472511144  | 0.9612606697307945   |\n",
            "+------------------------------+---------------------+----------------------+\n",
            "| daysOfPayablesOutstanding(1) | 0.06983655274888559 | 0.038739330269205514 |\n",
            "+------------------------------+---------------------+----------------------+\n",
            "+-----------------------+---------------------+---------------------+\n",
            "| Class                 | Class(0)            | Class(1)            |\n",
            "+-----------------------+---------------------+---------------------+\n",
            "| Inventory Turnover(0) | 0.8945022288261516  | 0.9300722258699934  |\n",
            "+-----------------------+---------------------+---------------------+\n",
            "| Inventory Turnover(1) | 0.10549777117384844 | 0.06992777413000656 |\n",
            "+-----------------------+---------------------+---------------------+\n",
            "+-------------------+----------------------+---------------------+\n",
            "| Class             | Class(0)             | Class(1)            |\n",
            "+-------------------+----------------------+---------------------+\n",
            "| Revenue Growth(0) | 0.9561664190193165   | 0.9553512803676953  |\n",
            "+-------------------+----------------------+---------------------+\n",
            "| Revenue Growth(1) | 0.043833580980683504 | 0.04464871963230466 |\n",
            "+-------------------+----------------------+---------------------+\n",
            "+---------------------+---------------------+---------------------+\n",
            "| Class               | Class(0)            | Class(1)            |\n",
            "+---------------------+---------------------+---------------------+\n",
            "| Free Cash Flow(0.0) | 0.6731054977711739  | 0.42350623768877216 |\n",
            "+---------------------+---------------------+---------------------+\n",
            "| Free Cash Flow(1.0) | 0.21025260029717682 | 0.2675640183847669  |\n",
            "+---------------------+---------------------+---------------------+\n",
            "| Free Cash Flow(2.0) | 0.11664190193164933 | 0.30892974392646094 |\n",
            "+---------------------+---------------------+---------------------+\n",
            "+----------------------------+---------------------+---------------------+\n",
            "| Class                      | Class(0)            | Class(1)            |\n",
            "+----------------------------+---------------------+---------------------+\n",
            "| returnOnCapitalEmployed(0) | 0.14413075780089152 | 0.04760341431385424 |\n",
            "+----------------------------+---------------------+---------------------+\n",
            "| returnOnCapitalEmployed(1) | 0.8558692421991084  | 0.9523965856861457  |\n",
            "+----------------------------+---------------------+---------------------+\n"
          ]
        }
      ]
    },
    {
      "cell_type": "code",
      "source": [
        "X = df_final_copy.drop(columns=['Class'])\n",
        "y = df_final_copy.Class\n",
        "\n",
        "# training the model on training set\n",
        "from sklearn.naive_bayes import GaussianNB\n",
        "from sklearn.model_selection import train_test_split\n",
        "X_train, X_test, y_train, y_test = train_test_split(X, y, test_size=0.4, random_state=1)\n",
        "gnb = GaussianNB()\n",
        "gnb.fit(X_train, y_train)\n",
        "\n",
        "# making predictions on the testing set\n",
        "y_pred = gnb.predict(X_test)\n"
      ],
      "metadata": {
        "id": "3ARqp9xtusHh"
      },
      "execution_count": null,
      "outputs": []
    },
    {
      "cell_type": "code",
      "source": [
        "gnbpred=gnb.predict(predict_data)\n",
        "\n",
        "accuracy_score(dfn[\"Class\"], gnbpred[79:])*100\n",
        "y_test.reset_index(level=None, drop=True, inplace=False)"
      ],
      "metadata": {
        "id": "laNHo6Vd06ED",
        "colab": {
          "base_uri": "https://localhost:8080/"
        },
        "outputId": "c751635b-8541-43d9-ee03-88f2d2749342"
      },
      "execution_count": null,
      "outputs": [
        {
          "output_type": "execute_result",
          "data": {
            "text/plain": [
              "0       1\n",
              "1       1\n",
              "2       1\n",
              "3       0\n",
              "4       1\n",
              "       ..\n",
              "1752    0\n",
              "1753    0\n",
              "1754    1\n",
              "1755    0\n",
              "1756    1\n",
              "Name: Class, Length: 1757, dtype: int64"
            ]
          },
          "metadata": {},
          "execution_count": 63
        }
      ]
    },
    {
      "cell_type": "markdown",
      "source": [
        "**Accuracy**"
      ],
      "metadata": {
        "id": "6M6w64hPLoWI"
      }
    },
    {
      "cell_type": "code",
      "source": [
        "test_y_pass = y_test.reset_index(level=None, drop=True, inplace=False)\n",
        "acc(gnbpred[79:], dfn[\"Class\"])"
      ],
      "metadata": {
        "id": "wqdRPzQIK4tt",
        "colab": {
          "base_uri": "https://localhost:8080/"
        },
        "outputId": "07ed42dd-c8a9-4df7-b594-8e034a60d4e2"
      },
      "execution_count": null,
      "outputs": [
        {
          "output_type": "stream",
          "name": "stdout",
          "text": [
            "The accuracy is 63.02858492794709%\n",
            "The precision is 0.6986937590711175\n",
            "The recall is 0.8203817314246762\n",
            "The f1-score is 0.7546637403981815\n"
          ]
        }
      ]
    },
    {
      "cell_type": "code",
      "source": [
        "cf_matrix = confusion_matrix(gnbpred[79:], dfn[\"Class\"])\n",
        "sns.heatmap(cf_matrix/np.sum(cf_matrix), annot=True, \n",
        "            fmt='.2%', cmap='Blues')"
      ],
      "metadata": {
        "id": "GdWI3F7nQRsQ",
        "colab": {
          "base_uri": "https://localhost:8080/",
          "height": 282
        },
        "outputId": "36d41ba6-f0e0-4ad1-a6f3-2dc364400614"
      },
      "execution_count": null,
      "outputs": [
        {
          "output_type": "execute_result",
          "data": {
            "text/plain": [
              "<matplotlib.axes._subplots.AxesSubplot at 0x7f26e0bc3100>"
            ]
          },
          "metadata": {},
          "execution_count": 65
        },
        {
          "output_type": "display_data",
          "data": {
            "text/plain": [
              "<Figure size 432x288 with 2 Axes>"
            ],
            "image/png": "[encoded data removed]"
          },
          "metadata": {
            "needs_background": "light"
          }
        }
      ]
    }
  ],
  "metadata": {
    "kernelspec": {
      "display_name": "Python 3.8.8 ('base')",
      "language": "python",
      "name": "python3"
    },
    "language_info": {
      "codemirror_mode": {
        "name": "ipython",
        "version": 3
      },
      "file_extension": ".py",
      "mimetype": "text/x-python",
      "name": "python",
      "nbconvert_exporter": "python",
      "pygments_lexer": "ipython3",
      "version": "3.8.8"
    },
    "orig_nbformat": 4,
    "vscode": {
      "interpreter": {
        "hash": "ed48bbe6901af0dc6c0b1ba0398ca2f757978f8fe52893c404caad807bf459ad"
      }
    },
    "colab": {
      "provenance": []
    }
  },
  "nbformat": 4,
  "nbformat_minor": 0
}